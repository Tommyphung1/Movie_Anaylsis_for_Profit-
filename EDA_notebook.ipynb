{
 "cells": [
  {
   "cell_type": "code",
   "execution_count": null,
   "id": "d9fbda44",
   "metadata": {},
   "outputs": [],
   "source": [
    "import csv    #for the cvs and txv files\n",
    "import sqlite3 as sql   #for the db file\n",
    "import pandas as pd    #Help visualize the data\n",
    "import matplotlib.pyplot as plt\n",
    "import resources.data_cleaning as dp\n",
    "import resources.visualization as dv\n",
    "%matplotlib inline"
   ]
  },
  {
   "cell_type": "code",
   "execution_count": null,
   "id": "1d8de27b",
   "metadata": {},
   "outputs": [],
   "source": [
    "df_1 = pd.read_csv(\"data/tmdb.movies.csv\")   \n",
    "df_2 = pd.read_csv(\"data/tn.movie_budgets.csv\")\n",
    "df_3 = pd.read_csv('data/rt.reviews.tsv',delimiter = '\\t', encoding = 'cp437' )   \n",
    "df_4 = pd.read_csv('data/rt.movie_info.tsv',delimiter = '\\t')\n",
    "df_5 = pd.read_csv('data/bom.movie_gross.csv',delimiter = '\\t')\n",
    "conn = sql.connect('data/im.db/im.db')"
   ]
  },
  {
   "cell_type": "code",
   "execution_count": null,
   "id": "2b47c176",
   "metadata": {},
   "outputs": [],
   "source": [
    "df_1.info()    #Extra column to drop\n",
    "df_1.duplicated().sum()    #No duplicate rows to drop\n",
    "df_1.isna().sum()    #No NaN values to drop\n",
    "df_1.isnull().sum()#"
   ]
  },
  {
   "cell_type": "code",
   "execution_count": null,
   "id": "9d7de9a7",
   "metadata": {},
   "outputs": [],
   "source": [
    "df_2.info()    #Extra column to drop\n",
    "print(df_2.duplicated().sum())    #No duplicate rows to drop\n",
    "df_2.isna().sum()    #No NaN values to drop\n",
    "df_2.isnull().sum()"
   ]
  },
  {
   "cell_type": "code",
   "execution_count": null,
   "id": "497837f2-84db-4044-a563-dafbe60e4e5d",
   "metadata": {},
   "outputs": [],
   "source": [
    "df_2['cat_f'] = df_2['prod_world_ratio'].map(lambda x: dp.cat_ratio(x))\n",
    "zero_cat = len(df_2.loc[df_2['cat_f'] == 0])\n",
    "one_cat = len(df_2.loc[df_2['cat_f'] == 1])\n",
    "two_cat = len(df_2.loc[df_2['cat_f'] == 2])\n",
    "three_cat = len(df_2.loc[df_2['cat_f'] == 3])\n",
    "\n",
    "print(\"\"\"\n",
    "{:.0%} have a ratio of less than 1\n",
    "{:.0%} have a ratio of 1 to 2\n",
    "{:.0%} have a ratio of 2 to 3\n",
    "{:.0%} have a ratio of more than 3\n",
    "\"\"\".format(zero_cat/5782, one_cat/5782, two_cat/5782, three_cat/5782))\n",
    "\n",
    "### Too screwed due to outliers?\n",
    "print('Average production budget with ratio less than 1: ', df_2['production_budget'].loc[df_2['cat_f'] == 0].mean())\n",
    "print('Average production budget with ratio between 1 and 2: ', df_2['production_budget'].loc[df_2['cat_f'] == 1].mean())\n",
    "print('Average production budget with ratio between 2 and 3: ', df_2['production_budget'].loc[df_2['cat_f'] == 2].mean())\n",
    "print('Average production budget with ratio over 3: ', df_2['production_budget'].loc[df_2['cat_f'] == 3].mean())\n",
    "\n",
    "print('Average production budget with ratio less than 1: ', outlier_removed['production_budget'].loc[outlier_removed['cat_f'] == 0].mean())\n",
    "print('Average production budget with ratio between 1 and 2: ', outlier_removed['production_budget'].loc[outlier_removed['cat_f'] == 1].mean())\n",
    "print('Average production budget with ratio between 2 and 3: ', outlier_removed['production_budget'].loc[outlier_removed['cat_f'] == 2].mean())\n",
    "print('Average production budget with ratio over 3: ', outlier_removed['production_budget'].loc[outlier_removed['cat_f'] == 3].mean())\n"
   ]
  },
  {
   "cell_type": "code",
   "execution_count": null,
   "id": "ee3c9bf4",
   "metadata": {},
   "outputs": [],
   "source": [
    "df_3.info()    #Extra column to drop\n",
    "print(df_3.duplicated().sum())    #9 duplicate to drop\n",
    "df_3.isna().sum()    #Review, rating, critics and publisher have NaN values\n",
    "df_3.isnull().sum()    #Review, rating, critics and publisher have Null values"
   ]
  },
  {
   "cell_type": "code",
   "execution_count": null,
   "id": "b7c7e17c",
   "metadata": {},
   "outputs": [],
   "source": [
    "df_4.info()    #Extra column to drop\n",
    "print(df_4.duplicated().sum())    #No duplicate rows to drop\n",
    "df_4.isna().sum()    #All columns but ID have NaN values\n",
    "df_4.isnull().sum()    #All columns but ID have Null values"
   ]
  },
  {
   "cell_type": "code",
   "execution_count": null,
   "id": "f0f79482",
   "metadata": {},
   "outputs": [],
   "source": [
    "df_5.info()    #Extra column to drop\n",
    "print(df_5.duplicated().sum())    #No duplicate rows to drop\n",
    "df_5.isna().sum()    #All columns but ID have NaN values\n",
    "df_5.isnull().sum()    #There are no Null values\n",
    "df_5.head()    #Looks the same as df_1 or rather similar data"
   ]
  },
  {
   "cell_type": "code",
   "execution_count": null,
   "id": "544018e5",
   "metadata": {},
   "outputs": [],
   "source": [
    "print(df_1.columns)\n",
    "df_1['genre_ids']    #What does these numbers mean? - \n",
    "df_1['id']    #Each movie has a unique id\n",
    "df_1['original_language']    #Only english movies? - No, there are multiples\n",
    "df_1['original_title']     #Title of the movie - Use title for consistency\n",
    "df_1['popularity']    #Ranking out of ... 100 , Website looks like percentage - based on amount timed watched?\n",
    "df_1.sort_values('popularity').tail()\n",
    "#Release data, title are pretty obvious, may need to look in title vs original title\n",
    "df_1.loc[df_1['vote_average'] == 0]  #Quite a few with not votes and therefore no vote average\n",
    "\n",
    "#Main use, productuon_budget, domestic gross, worldwide gross\n",
    "#Main use, pull best and worst genre based on rating\n",
    "#https://docs.python.org/3/library/codecs.html#standard-encodings - Helped with finding valid encoding\n",
    "#Main use, studio, could use to double check df1\n",
    "#SQL connection with movie ratings and director name"
   ]
  },
  {
   "cell_type": "code",
   "execution_count": null,
   "id": "22422f85-af5b-47d1-a20a-4b6abd7a683b",
   "metadata": {},
   "outputs": [],
   "source": [
    "# Rotten Tomatoes review info\n",
    "df_3.head()\n",
    "df_3.info() \n",
    "df_3.isna().sum()    #1/4 of ratings are NaN - may not be too useful\n",
    "df_3.loc[df_3['review'].isna()]    #Review are just the written words - Okay to be NaN for our case\n",
    "df3_top_critic = df_3.loc[df_3['top_critic'] == 1]    #1/4 of reviews are made from 'top critics' - Could be useful for creditabilty\n",
    "#print(len(df3_top_critic['critic'].unique()))    #856 unique critics    \n",
    "#print(len(df3_top_critic))    #13096 review from top critics"
   ]
  },
  {
   "cell_type": "code",
   "execution_count": null,
   "id": "2fa46424-2cf7-4d3f-8411-1aa074e4128f",
   "metadata": {},
   "outputs": [],
   "source": [
    "### Find Average ratings for all the movies - 6.22\n",
    "pd.read_sql(\"\"\"SELECT AVG(averagerating) AS 'Average Rating'\n",
    "FROM movie_ratings\n",
    "JOIN movie_basics\n",
    "    USING (movie_id)\n",
    "JOIN directors\n",
    "    USING (movie_id)\n",
    "JOIN persons\n",
    "    USING (person_id)\n",
    "\"\"\", conn)"
   ]
  },
  {
   "cell_type": "code",
   "execution_count": null,
   "id": "311181d2-794c-433c-82c7-da6fa321f2b2",
   "metadata": {},
   "outputs": [],
   "source": [
    "pd.read_sql(\"\"\"\n",
    "SELECT AVG(NumberofMovies)\n",
    "FROM (\n",
    "    SELECT COUNT(movie_id) AS NumberofMovies\n",
    "    FROM movie_ratings\n",
    "    JOIN movie_basics\n",
    "        USING (movie_id)\n",
    "    JOIN directors\n",
    "        USING (movie_id)\n",
    "    JOIN persons\n",
    "        USING (person_id)\n",
    "    GROUP BY persons.primary_name\n",
    "    HAVING NumberofMovies > 1\n",
    "    )\n",
    "    \n",
    "\"\"\", conn)"
   ]
  },
  {
   "cell_type": "code",
   "execution_count": null,
   "id": "e9a38b44-4a62-4bd7-9c95-8699b3b68a1e",
   "metadata": {},
   "outputs": [],
   "source": [
    "list_of_directors = dv.top_directors(conn)\n",
    "best_dir_movies = []\n",
    "for movie in list(list_of_directors['primary_title']):\n",
    "    if movie in df1_top_list:\n",
    "        best_dir_movies.append(movie)\n",
    "        \n",
    "best_dir_movies"
   ]
  }
 ],
 "metadata": {
  "kernelspec": {
   "display_name": "Python 3 (ipykernel)",
   "language": "python",
   "name": "python3"
  },
  "language_info": {
   "codemirror_mode": {
    "name": "ipython",
    "version": 3
   },
   "file_extension": ".py",
   "mimetype": "text/x-python",
   "name": "python",
   "nbconvert_exporter": "python",
   "pygments_lexer": "ipython3",
   "version": "3.9.13"
  }
 },
 "nbformat": 4,
 "nbformat_minor": 5
}
