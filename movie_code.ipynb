{
 "cells": [
  {
   "cell_type": "markdown",
   "id": "b02ae759-b021-4ad7-b081-292daf5f77c9",
   "metadata": {
    "tags": []
   },
   "source": [
    "# Phase 1 - Project 1"
   ]
  },
  {
   "cell_type": "markdown",
   "id": "818d71e7-e8b2-486f-9ba8-e00fccdba876",
   "metadata": {
    "tags": []
   },
   "source": [
    "## Data Imports"
   ]
  },
  {
   "cell_type": "code",
   "execution_count": null,
   "id": "408aec85-d8ce-44ad-af33-72b3e15231a2",
   "metadata": {},
   "outputs": [],
   "source": [
    "import csv    #for the cvs and txv files\n",
    "import sqlite3 as sql   #for the db file\n",
    "import pandas as pd    #Help visualize the data\n",
    "import matplotlib.pyplot as plt\n",
    "import numpy as np\n",
    "%matplotlib inline"
   ]
  },
  {
   "cell_type": "markdown",
   "id": "77519be3-140d-456c-85f6-fb08a5d36147",
   "metadata": {
    "tags": []
   },
   "source": [
    "## Read All files\n",
    "Sample the files to see the contents\n"
   ]
  },
  {
   "cell_type": "code",
   "execution_count": null,
   "id": "d9fd7e2d-c20a-47e9-9cbe-12f8df19a67e",
   "metadata": {},
   "outputs": [],
   "source": [
    "df_1 = pd.read_csv(\"data/tmdb.movies.csv.gz\")    #Main use, pull best and worst genre based on rating\n",
    "df_1.head()"
   ]
  },
  {
   "cell_type": "code",
   "execution_count": null,
   "id": "ad0c64c6-e672-4ff5-acd8-2d2702090939",
   "metadata": {},
   "outputs": [],
   "source": [
    "df_2 = pd.read_csv(\"data/tn.movie_budgets.csv.gz\")\n",
    "df_2.head()"
   ]
  },
  {
   "cell_type": "markdown",
   "id": "1041dd45-1790-4a96-95bd-05f32996f966",
   "metadata": {},
   "source": [
    "https://docs.python.org/3/library/codecs.html#standard-encodings - Helped with finding valid encoding "
   ]
  },
  {
   "cell_type": "code",
   "execution_count": 25,
   "id": "039659e4-6c29-40a4-b6dd-18d1bc394495",
   "metadata": {},
   "outputs": [
    {
     "data": {
      "text/html": [
       "<div>\n",
       "<style scoped>\n",
       "    .dataframe tbody tr th:only-of-type {\n",
       "        vertical-align: middle;\n",
       "    }\n",
       "\n",
       "    .dataframe tbody tr th {\n",
       "        vertical-align: top;\n",
       "    }\n",
       "\n",
       "    .dataframe thead th {\n",
       "        text-align: right;\n",
       "    }\n",
       "</style>\n",
       "<table border=\"1\" class=\"dataframe\">\n",
       "  <thead>\n",
       "    <tr style=\"text-align: right;\">\n",
       "      <th></th>\n",
       "      <th>id</th>\n",
       "      <th>review</th>\n",
       "      <th>rating</th>\n",
       "      <th>fresh</th>\n",
       "      <th>critic</th>\n",
       "      <th>top_critic</th>\n",
       "      <th>publisher</th>\n",
       "      <th>date</th>\n",
       "    </tr>\n",
       "  </thead>\n",
       "  <tbody>\n",
       "    <tr>\n",
       "      <th>0</th>\n",
       "      <td>3</td>\n",
       "      <td>A distinctly gallows take on contemporary fina...</td>\n",
       "      <td>3/5</td>\n",
       "      <td>fresh</td>\n",
       "      <td>PJ Nabarro</td>\n",
       "      <td>0</td>\n",
       "      <td>Patrick Nabarro</td>\n",
       "      <td>November 10, 2018</td>\n",
       "    </tr>\n",
       "    <tr>\n",
       "      <th>1</th>\n",
       "      <td>3</td>\n",
       "      <td>It's an allegory in search of a meaning that n...</td>\n",
       "      <td>NaN</td>\n",
       "      <td>rotten</td>\n",
       "      <td>Annalee Newitz</td>\n",
       "      <td>0</td>\n",
       "      <td>io9.com</td>\n",
       "      <td>May 23, 2018</td>\n",
       "    </tr>\n",
       "    <tr>\n",
       "      <th>2</th>\n",
       "      <td>3</td>\n",
       "      <td>... life lived in a bubble in financial dealin...</td>\n",
       "      <td>NaN</td>\n",
       "      <td>fresh</td>\n",
       "      <td>Sean Axmaker</td>\n",
       "      <td>0</td>\n",
       "      <td>Stream on Demand</td>\n",
       "      <td>January 4, 2018</td>\n",
       "    </tr>\n",
       "    <tr>\n",
       "      <th>3</th>\n",
       "      <td>3</td>\n",
       "      <td>Continuing along a line introduced in last yea...</td>\n",
       "      <td>NaN</td>\n",
       "      <td>fresh</td>\n",
       "      <td>Daniel Kasman</td>\n",
       "      <td>0</td>\n",
       "      <td>MUBI</td>\n",
       "      <td>November 16, 2017</td>\n",
       "    </tr>\n",
       "    <tr>\n",
       "      <th>4</th>\n",
       "      <td>3</td>\n",
       "      <td>... a perverse twist on neorealism...</td>\n",
       "      <td>NaN</td>\n",
       "      <td>fresh</td>\n",
       "      <td>NaN</td>\n",
       "      <td>0</td>\n",
       "      <td>Cinema Scope</td>\n",
       "      <td>October 12, 2017</td>\n",
       "    </tr>\n",
       "  </tbody>\n",
       "</table>\n",
       "</div>"
      ],
      "text/plain": [
       "   id                                             review rating   fresh  \\\n",
       "0   3  A distinctly gallows take on contemporary fina...    3/5   fresh   \n",
       "1   3  It's an allegory in search of a meaning that n...    NaN  rotten   \n",
       "2   3  ... life lived in a bubble in financial dealin...    NaN   fresh   \n",
       "3   3  Continuing along a line introduced in last yea...    NaN   fresh   \n",
       "4   3             ... a perverse twist on neorealism...     NaN   fresh   \n",
       "\n",
       "           critic  top_critic         publisher               date  \n",
       "0      PJ Nabarro           0   Patrick Nabarro  November 10, 2018  \n",
       "1  Annalee Newitz           0           io9.com       May 23, 2018  \n",
       "2    Sean Axmaker           0  Stream on Demand    January 4, 2018  \n",
       "3   Daniel Kasman           0              MUBI  November 16, 2017  \n",
       "4             NaN           0      Cinema Scope   October 12, 2017  "
      ]
     },
     "execution_count": 25,
     "metadata": {},
     "output_type": "execute_result"
    }
   ],
   "source": [
    "df_3 = pd.read_csv('data/rt.reviews.tsv.gz',delimiter = '\\t', encoding = 'cp437' )\n",
    "df_3.head()"
   ]
  },
  {
   "cell_type": "code",
   "execution_count": 42,
   "id": "655dbb10-b405-4432-912b-86f3676074c6",
   "metadata": {},
   "outputs": [
    {
     "data": {
      "text/html": [
       "<div>\n",
       "<style scoped>\n",
       "    .dataframe tbody tr th:only-of-type {\n",
       "        vertical-align: middle;\n",
       "    }\n",
       "\n",
       "    .dataframe tbody tr th {\n",
       "        vertical-align: top;\n",
       "    }\n",
       "\n",
       "    .dataframe thead th {\n",
       "        text-align: right;\n",
       "    }\n",
       "</style>\n",
       "<table border=\"1\" class=\"dataframe\">\n",
       "  <thead>\n",
       "    <tr style=\"text-align: right;\">\n",
       "      <th></th>\n",
       "      <th>id</th>\n",
       "      <th>synopsis</th>\n",
       "      <th>rating</th>\n",
       "      <th>genre</th>\n",
       "      <th>director</th>\n",
       "      <th>writer</th>\n",
       "      <th>theater_date</th>\n",
       "      <th>dvd_date</th>\n",
       "      <th>currency</th>\n",
       "      <th>box_office</th>\n",
       "      <th>runtime</th>\n",
       "      <th>studio</th>\n",
       "    </tr>\n",
       "  </thead>\n",
       "  <tbody>\n",
       "    <tr>\n",
       "      <th>0</th>\n",
       "      <td>1</td>\n",
       "      <td>This gritty, fast-paced, and innovative police...</td>\n",
       "      <td>R</td>\n",
       "      <td>Action and Adventure|Classics|Drama</td>\n",
       "      <td>William Friedkin</td>\n",
       "      <td>Ernest Tidyman</td>\n",
       "      <td>Oct 9, 1971</td>\n",
       "      <td>Sep 25, 2001</td>\n",
       "      <td>NaN</td>\n",
       "      <td>NaN</td>\n",
       "      <td>104 minutes</td>\n",
       "      <td>NaN</td>\n",
       "    </tr>\n",
       "    <tr>\n",
       "      <th>1</th>\n",
       "      <td>3</td>\n",
       "      <td>New York City, not-too-distant-future: Eric Pa...</td>\n",
       "      <td>R</td>\n",
       "      <td>Drama|Science Fiction and Fantasy</td>\n",
       "      <td>David Cronenberg</td>\n",
       "      <td>David Cronenberg|Don DeLillo</td>\n",
       "      <td>Aug 17, 2012</td>\n",
       "      <td>Jan 1, 2013</td>\n",
       "      <td>$</td>\n",
       "      <td>600,000</td>\n",
       "      <td>108 minutes</td>\n",
       "      <td>Entertainment One</td>\n",
       "    </tr>\n",
       "    <tr>\n",
       "      <th>2</th>\n",
       "      <td>5</td>\n",
       "      <td>Illeana Douglas delivers a superb performance ...</td>\n",
       "      <td>R</td>\n",
       "      <td>Drama|Musical and Performing Arts</td>\n",
       "      <td>Allison Anders</td>\n",
       "      <td>Allison Anders</td>\n",
       "      <td>Sep 13, 1996</td>\n",
       "      <td>Apr 18, 2000</td>\n",
       "      <td>NaN</td>\n",
       "      <td>NaN</td>\n",
       "      <td>116 minutes</td>\n",
       "      <td>NaN</td>\n",
       "    </tr>\n",
       "    <tr>\n",
       "      <th>3</th>\n",
       "      <td>6</td>\n",
       "      <td>Michael Douglas runs afoul of a treacherous su...</td>\n",
       "      <td>R</td>\n",
       "      <td>Drama|Mystery and Suspense</td>\n",
       "      <td>Barry Levinson</td>\n",
       "      <td>Paul Attanasio|Michael Crichton</td>\n",
       "      <td>Dec 9, 1994</td>\n",
       "      <td>Aug 27, 1997</td>\n",
       "      <td>NaN</td>\n",
       "      <td>NaN</td>\n",
       "      <td>128 minutes</td>\n",
       "      <td>NaN</td>\n",
       "    </tr>\n",
       "    <tr>\n",
       "      <th>4</th>\n",
       "      <td>7</td>\n",
       "      <td>NaN</td>\n",
       "      <td>NR</td>\n",
       "      <td>Drama|Romance</td>\n",
       "      <td>Rodney Bennett</td>\n",
       "      <td>Giles Cooper</td>\n",
       "      <td>NaN</td>\n",
       "      <td>NaN</td>\n",
       "      <td>NaN</td>\n",
       "      <td>NaN</td>\n",
       "      <td>200 minutes</td>\n",
       "      <td>NaN</td>\n",
       "    </tr>\n",
       "  </tbody>\n",
       "</table>\n",
       "</div>"
      ],
      "text/plain": [
       "   id                                           synopsis rating  \\\n",
       "0   1  This gritty, fast-paced, and innovative police...      R   \n",
       "1   3  New York City, not-too-distant-future: Eric Pa...      R   \n",
       "2   5  Illeana Douglas delivers a superb performance ...      R   \n",
       "3   6  Michael Douglas runs afoul of a treacherous su...      R   \n",
       "4   7                                                NaN     NR   \n",
       "\n",
       "                                 genre          director  \\\n",
       "0  Action and Adventure|Classics|Drama  William Friedkin   \n",
       "1    Drama|Science Fiction and Fantasy  David Cronenberg   \n",
       "2    Drama|Musical and Performing Arts    Allison Anders   \n",
       "3           Drama|Mystery and Suspense    Barry Levinson   \n",
       "4                        Drama|Romance    Rodney Bennett   \n",
       "\n",
       "                            writer  theater_date      dvd_date currency  \\\n",
       "0                   Ernest Tidyman   Oct 9, 1971  Sep 25, 2001      NaN   \n",
       "1     David Cronenberg|Don DeLillo  Aug 17, 2012   Jan 1, 2013        $   \n",
       "2                   Allison Anders  Sep 13, 1996  Apr 18, 2000      NaN   \n",
       "3  Paul Attanasio|Michael Crichton   Dec 9, 1994  Aug 27, 1997      NaN   \n",
       "4                     Giles Cooper           NaN           NaN      NaN   \n",
       "\n",
       "  box_office      runtime             studio  \n",
       "0        NaN  104 minutes                NaN  \n",
       "1    600,000  108 minutes  Entertainment One  \n",
       "2        NaN  116 minutes                NaN  \n",
       "3        NaN  128 minutes                NaN  \n",
       "4        NaN  200 minutes                NaN  "
      ]
     },
     "execution_count": 42,
     "metadata": {},
     "output_type": "execute_result"
    }
   ],
   "source": [
    "df_4 = pd.read_csv('data/rt.movie_info.tsv.gz',delimiter = '\\t')\n",
    "df_4.head()"
   ]
  },
  {
   "cell_type": "code",
   "execution_count": null,
   "id": "91c2e95f-8753-4408-a92a-14e8758df335",
   "metadata": {},
   "outputs": [],
   "source": [
    "df_5 = pd.read_csv('data/bom.movie_gross.csv.gz',delimiter = '\\t')\n",
    "df_5.head()"
   ]
  },
  {
   "cell_type": "code",
   "execution_count": null,
   "id": "1f178745-07de-4f25-bfa9-e44f8c585d33",
   "metadata": {},
   "outputs": [],
   "source": [
    "conn = sql.connect('data/im.db/im.db')\n",
    "\n",
    "#pd.read_sql('SELECT * FROM  zipfile(data/im.db.zip)', conn)   #https://www.sqlite.org/zipfile.html"
   ]
  },
  {
   "cell_type": "code",
   "execution_count": null,
   "id": "da337a4c-7565-4989-bba5-0bffb8f7c0bc",
   "metadata": {},
   "outputs": [],
   "source": [
    "pd.read_sql(\"\"\"SELECT * FROM movie_ratings\"\"\", conn)"
   ]
  },
  {
   "cell_type": "code",
   "execution_count": null,
   "id": "74e731e4-82af-4316-966e-99d5795f2797",
   "metadata": {},
   "outputs": [],
   "source": [
    "\n"
   ]
  },
  {
   "cell_type": "markdown",
   "id": "f7303b87-e716-414d-8ca5-dffc87746b32",
   "metadata": {
    "tags": []
   },
   "source": [
    "## Data Cleaning"
   ]
  },
  {
   "cell_type": "markdown",
   "id": "86269f9d-7087-4150-9c21-25864cc632d2",
   "metadata": {
    "tags": []
   },
   "source": [
    "### The Movie DB \n",
    "Useful keys: Popularity, vote count, vote average"
   ]
  },
  {
   "cell_type": "markdown",
   "id": "8d938ce8-8ac5-4ce4-9e45-fa04008ab5c4",
   "metadata": {
    "jp-MarkdownHeadingCollapsed": true,
    "tags": []
   },
   "source": [
    "#### Data Exploration"
   ]
  },
  {
   "cell_type": "code",
   "execution_count": null,
   "id": "28a16082-1c4f-420a-926b-f03fb59a439f",
   "metadata": {},
   "outputs": [],
   "source": [
    "print(df_1.columns)\n",
    "df_1['genre_ids']    #What does these numbers mean? - \n",
    "df_1['id']    #Each movie has a unique id? \n",
    "df_1['original_language']    #Only english movies? - No, there are multiples\n",
    "df_1['original_title']     #Title of the movie\n",
    "df_1['popularity']    #Ranking out of ... 100 , Website looks like percentage - based on amount timed watched?\n",
    "df_1.sort_values('popularity').tail()\n",
    "#Release data, title are pretty obvious, may need to look in title vs original title\n",
    "df_1.loc[df_1['vote_average'] == 0]  #Quite a few with not votes and therefore no vote average\n",
    "#df_1['vote_average'].plot(kind = 'hist')    #- Suject to remove with no votes\n",
    "#df_1.sort_values(by ='vote_count')"
   ]
  },
  {
   "cell_type": "markdown",
   "id": "89a55276-fd3d-4804-9d9e-8a0442b3728f",
   "metadata": {
    "jp-MarkdownHeadingCollapsed": true,
    "tags": []
   },
   "source": [
    "#### Data Filtering"
   ]
  },
  {
   "cell_type": "code",
   "execution_count": null,
   "id": "7e41b4d3-d129-4963-b077-08c16f93f2f4",
   "metadata": {},
   "outputs": [],
   "source": [
    "####   Data Cleaning    ###\n",
    "print(df_1.info())    #Unknown column\n",
    "df_1['Unnamed: 0']    #No use, index column\n",
    "df_1.drop(\"Unnamed: 0\", axis = 1, inplace= True)   #Remove the column\n",
    "df_1.columns    #Confirm the drop"
   ]
  },
  {
   "cell_type": "code",
   "execution_count": null,
   "id": "0764dce8-18ba-462a-86c5-b65bf525c340",
   "metadata": {},
   "outputs": [],
   "source": [
    "###    Check missing values    ###\n",
    "print (df_1.isna().sum())    #No NaN values\n",
    "print (df_1.isnull().sum())    #No Null Values\n"
   ]
  },
  {
   "cell_type": "code",
   "execution_count": null,
   "id": "f71d4995-0972-47db-9e5c-9c59172ff139",
   "metadata": {},
   "outputs": [],
   "source": [
    "###    Remove dups    ###\n",
    "df_1.duplicated().sum()    #There are duplicated movies? Multiple languages?\n",
    "df_1[df_1.duplicated(keep = False)].sort_values(by = 'id')    #Looks like straight copies - Need to remove\n",
    "df_1.drop_duplicates(inplace = True)    #Remove dups\n",
    "df_1.duplicated().sum()   #Check again for dups\n"
   ]
  },
  {
   "cell_type": "markdown",
   "id": "66baf450-0e12-40ab-a8ae-b2537c7f9c89",
   "metadata": {
    "jp-MarkdownHeadingCollapsed": true,
    "tags": []
   },
   "source": [
    "#### Data Visualization\n",
    "Important columns: popularity and genre\n"
   ]
  },
  {
   "cell_type": "code",
   "execution_count": null,
   "id": "b9837b50-a51f-4713-9ed0-dbb1cea9c5fc",
   "metadata": {},
   "outputs": [],
   "source": [
    "#Sort by popularity to see whats type of movies are the best\n",
    "df_1.sort_values('popularity', inplace = True,ascending= False)\n",
    "\n",
    "df_1['genre_ids'] = ((df_1['genre_ids'].map(lambda x: x.strip('[]'))).map(lambda x: x.replace(' ', ''))).map(lambda x: x.split(','))\n",
    "df_1['genre_ids'][0]\n",
    "df1_top_movies = df_1[0:100]\n",
    "df1_worst_movie = df_1[-100:]"
   ]
  },
  {
   "cell_type": "code",
   "execution_count": null,
   "id": "8e0024d5-30a6-4a8a-9f9a-af79ddf528c8",
   "metadata": {},
   "outputs": [],
   "source": [
    "#df1_top_movies\n",
    "    #for movie in df_list['genre_ids']:\n",
    "     #   movie = movie.strip('[]')\n",
    "     #   movie = movie.replace(' ', '')\n",
    "     #   movie = movie.split(',')\n",
    "        "
   ]
  },
  {
   "cell_type": "markdown",
   "id": "153560b4-3a03-4148-abb4-814a4656c248",
   "metadata": {
    "jp-MarkdownHeadingCollapsed": true,
    "tags": []
   },
   "source": [
    "##### Graphs"
   ]
  },
  {
   "cell_type": "code",
   "execution_count": null,
   "id": "93207b13-c9f6-4147-877e-69f8f029587c",
   "metadata": {},
   "outputs": [],
   "source": [
    "# Convert the genre id to names for understanding purposes\n",
    "convert = {'28' : 'Action', '12': 'Adventure', '35': 'Comedy', '99': 'Documentary', \n",
    "           '18': 'Drama', '14': 'Fantasy', '27': 'Horror', '878' : 'Sci-Fi', '53' : 'Thriller',\n",
    "           '16': 'Animation', '80' : 'Crime', '10751' : 'Family','14':'Fantasy',\n",
    "           \"36\" : 'History','27': 'Horror', '10402':'Music', '9648':'Mystery',\n",
    "           '10749':'Romance','10770': 'TV Movie','10752': 'War','37':'Western', '': \"NULL\" }\n",
    "\n",
    "# Function count all the genre and group them\n",
    "def count_genre(df_list):\n",
    "    genre_count = {}    #https://www.themoviedb.org/talk/5daf6eb0ae36680011d7e6ee\n",
    "\n",
    "    for genre in df_list['genre_ids']:\n",
    "        for ids in genre:\n",
    "            if(genre_count.get(convert[ids])):\n",
    "                genre_count[convert[ids]] += 1\n",
    "            else:\n",
    "                genre_count[convert[ids]] = 1\n",
    "    return sorted(genre_count.items(), key = lambda x: x[1], reverse=True)\n",
    "   \n",
    "df1_top_genre = count_genre(df1_top_movies)\n",
    "df1_worst_genre = count_genre(df1_worst_movie)\n",
    "x, y = zip(*df1_top_genre)\n",
    "x2,y2 = zip(*df1_worst_genre)\n",
    "\n",
    "\n",
    "fig, ax = plt.subplots(1,2, figsize = (20,10))\n",
    "colors1 = ['red' if genre in x2[0:5] else 'green' for genre in x]\n",
    "colors2 = ['cyan' if genre in x[0:5] else 'black' for genre in x2]\n",
    "\n",
    "ax[0].barh(x,y, color = colors1);\n",
    "ax[1].barh(x2,y2, color = colors2);\n",
    "\n",
    "ax[1].set_xlabel(\"Frequency\");\n",
    "ax[0].set_xlabel(\"Frequency\");\n",
    "\n",
    "ax[0].set_ylabel(\"Genre\");\n",
    "ax[1].set_ylabel(\"Genre\");\n",
    "\n",
    "ax[1].set_title(\"Worst Genre - Worst 100 Movies\");\n",
    "ax[0].set_title(\"Best Genre - Top 100 Movies\");\n",
    "\n",
    "ax[0].legend([\"Good Tags\"]);\n",
    "ax[1].legend([\"Bad Tags\"]);"
   ]
  },
  {
   "cell_type": "markdown",
   "id": "48651467-e892-42f4-95e0-b46d1d97e7b7",
   "metadata": {
    "jp-MarkdownHeadingCollapsed": true,
    "tags": []
   },
   "source": [
    "### The Number"
   ]
  },
  {
   "cell_type": "markdown",
   "id": "29ba88cd-f10f-4fda-9e83-bc19da970a90",
   "metadata": {},
   "source": [
    "#### Data Exploration"
   ]
  },
  {
   "cell_type": "code",
   "execution_count": null,
   "id": "94e0a3cc-70b4-4a09-bf94-a2e643160ce2",
   "metadata": {},
   "outputs": [],
   "source": [
    "df_2.duplicated().sum()    #No dups?\n",
    "df_2.isna().sum()    #No NaN\n",
    "df_2.isnull().sum()    #No Null\n",
    "df_2.info()    #All usable except release data right now"
   ]
  },
  {
   "cell_type": "markdown",
   "id": "992c6f5b-5a76-4441-bcc8-6b55ced7dbe0",
   "metadata": {
    "jp-MarkdownHeadingCollapsed": true,
    "tags": []
   },
   "source": [
    "#### Data Filtering"
   ]
  },
  {
   "cell_type": "code",
   "execution_count": null,
   "id": "4825eaff-eb59-404c-9a88-726ad3d90b96",
   "metadata": {},
   "outputs": [],
   "source": [
    "###    Change the columns to integer for comparing and statistical methods    ###\n",
    "\n",
    "df_2['production_budget'] = df_2['production_budget'].map(lambda x: x.strip('$'))    #Take out the $\n",
    "df_2['production_budget'] = df_2['production_budget'].map(lambda x: x.replace(',',''))    #Remove the , \n",
    "df_2['production_budget'] = df_2['production_budget'].astype('int64')    #Convert to int64\n",
    "\n",
    "df_2['domestic_gross'] = df_2['domestic_gross'].map(lambda x: x.strip('$'))    #Take out the $\n",
    "df_2['domestic_gross'] = df_2['domestic_gross'].map(lambda x: x.replace(',',''))    #Remove the , \n",
    "df_2['domestic_gross'] = df_2['domestic_gross'].astype('int64')\n",
    "\n",
    "df_2['worldwide_gross'] = df_2['worldwide_gross'].map(lambda x: x.strip('$'))   #Take out the $\n",
    "df_2['worldwide_gross'] = df_2['worldwide_gross'].map(lambda x: x.replace(',',''))    #Remove the , \n",
    "df_2['worldwide_gross'] = df_2['worldwide_gross'].astype('int64')\n",
    "df_2.info()\n"
   ]
  },
  {
   "cell_type": "code",
   "execution_count": null,
   "id": "45c7220d-ed08-4d7f-95c6-058e0675c1e5",
   "metadata": {},
   "outputs": [],
   "source": []
  },
  {
   "cell_type": "code",
   "execution_count": null,
   "id": "77d538eb-6e10-4608-9140-a02b5be3e050",
   "metadata": {},
   "outputs": [],
   "source": [
    "df_2\n",
    "df_2['prod_dom_ratio'] = df_2['domestic_gross'] / df_2['production_budget']    #Ratio on the more proftitable movie\n",
    "df_2.sort_values(['prod_dom_ratio'], ascending= False, inplace= True)\n",
    "df_2.head(10)     #One outlier...I see\n",
    "\n",
    "\n",
    "print((df_2['prod_dom_ratio'] > 1).sum())    #Half the movie broke even - Categorical?\n",
    "print((df_2['prod_dom_ratio'] > 2).sum())    #1/4 of the movie doubled <- Goal\n",
    "print((df_2['prod_dom_ratio'] > 3).sum())    #Best case for most movies \n",
    "df2_most_prof_3 = df_2['movie'].loc[df_2['prod_dom_ratio'] > 3]  #Are the movies from the first data in this list?\n",
    "df_2['movie'].loc[df_2['movie'] == 'Avengers: Infinity War']    #In the list\n"
   ]
  },
  {
   "cell_type": "markdown",
   "id": "6a21a0ac-6b60-4cf3-a6ba-31744e46a4a3",
   "metadata": {
    "tags": []
   },
   "source": [
    "##### Data Comparison - Ratio of 3 and up"
   ]
  },
  {
   "cell_type": "code",
   "execution_count": null,
   "id": "cb9a1284-dff3-447b-a307-d9b439d89d0a",
   "metadata": {},
   "outputs": [],
   "source": [
    "# Titles from the first dataset\n",
    "df1_top_list = list(df1_top_movies['title'])\n",
    "df1_top_list\n"
   ]
  },
  {
   "cell_type": "code",
   "execution_count": null,
   "id": "3c5ef5d4-e973-414e-8773-73e1fc4a93e6",
   "metadata": {},
   "outputs": [],
   "source": [
    "\n",
    "df1_n_df2_3 = []\n",
    "for name in df2_most_prof_3:\n",
    "    for top in df1_top_list:\n",
    "        if(name == top):\n",
    "            df1_n_df2_3.append(name)\n",
    "df_1.loc[df_1['title'].isin(df1_n_df2_3)]\n",
    "over_3 = count_genre(df_1.loc[df_1['title'].isin(df1_n_df2_3)])"
   ]
  },
  {
   "cell_type": "markdown",
   "id": "136c0b4a-9583-4e51-9274-2df01065d8b5",
   "metadata": {},
   "source": [
    "##### Data Comparison - Ratio of 2 and up"
   ]
  },
  {
   "cell_type": "code",
   "execution_count": null,
   "id": "e1099952-b39e-489c-a327-705ceeb66476",
   "metadata": {},
   "outputs": [],
   "source": [
    "df2_most_prof_2 = df_2['movie'].loc[df_2['prod_dom_ratio'] > 2]\n",
    "df2_most_prof\n",
    "df1_n_df2_2 = []\n",
    "for name in df2_most_prof_2:\n",
    "    for top in df1_top_list:\n",
    "        if(name == top):\n",
    "            df1_n_df2_2.append(name)\n",
    "df_1.loc[df_1['title'].isin(df1_n_df2_2)]\n",
    "over_2 = count_genre(df_1.loc[df_1['title'].isin(df1_n_df2_2)])\n",
    "print(df1_n_df2_2)"
   ]
  },
  {
   "cell_type": "code",
   "execution_count": null,
   "id": "c1a31dac-64d7-4f1e-b803-564184c6f124",
   "metadata": {},
   "outputs": [],
   "source": [
    "df2_most_prof = df_2['movie'].loc[df_2['prod_dom_ratio'] > 1]\n",
    "df2_most_prof\n",
    "df1_n_df2 = []\n",
    "for name in df2_most_prof:\n",
    "    for top in df1_top_list:\n",
    "        if(name == top):\n",
    "            df1_n_df2.append(name)\n",
    "df_1.loc[df_1['title'].isin(df1_n_df2)]\n",
    "over_1 = count_genre(df_1.loc[df_1['title'].isin(df1_n_df2)])\n",
    "print(df1_n_df2)\n"
   ]
  },
  {
   "cell_type": "markdown",
   "id": "c6c6bcf0-39f8-4ab5-adfb-8decb68b1e1f",
   "metadata": {
    "tags": []
   },
   "source": [
    "#### Data Visualization"
   ]
  },
  {
   "cell_type": "code",
   "execution_count": null,
   "id": "628361f6-bff8-4141-90af-85e36704ce66",
   "metadata": {},
   "outputs": [],
   "source": [
    "fig, ax = plt.subplots(3,1, figsize = (10, 15))\n",
    "x, y = zip(*over_1)\n",
    "x2, y2 = zip(*over_2)\n",
    "x3, y3 = zip(*over_3)\n",
    "ax[0].barh(x,y)\n",
    "ax[1].barh(x2,y2)\n",
    "ax[2].barh(x3,y3)"
   ]
  },
  {
   "cell_type": "markdown",
   "id": "7d307de1-2c15-4c42-a594-47c97eb0f08f",
   "metadata": {
    "tags": []
   },
   "source": [
    "### Rotten Tomatoes"
   ]
  },
  {
   "cell_type": "markdown",
   "id": "4c16fb84-e9e7-40dd-b99b-6583bbc9ba39",
   "metadata": {},
   "source": [
    "Id is probably Movie ID \n",
    "Review are the written review of the critic\n",
    "Rating is out of 5\n",
    "Freshness appears to be 3>Fresh and lower is rotten\n",
    "Top critics are acclaimed critics on rottom tomatoes\n",
    "Publisher and Release data have no use at the moment\n"
   ]
  },
  {
   "cell_type": "code",
   "execution_count": 77,
   "id": "393879d5-5fab-4fe5-8efe-081df2cc6d22",
   "metadata": {},
   "outputs": [
    {
     "name": "stdout",
     "output_type": "stream",
     "text": [
      "856\n",
      "13096\n"
     ]
    }
   ],
   "source": [
    "df_3.head()\n",
    "#df_3.info()\n",
    "#df_3.isna().sum()\n",
    "df_3.loc[df_3['review'].isna()]\n",
    "df3_top_critic = df_3.loc[df_3['top_critic'] == 1]\n",
    "print(len(df3_top_critic['critic'].unique()))    #856 unique critics\n",
    "print(len(df3_top_critic))    #13096 review from top critics\n"
   ]
  },
  {
   "cell_type": "code",
   "execution_count": 84,
   "id": "7f7a0174-c581-4c08-9088-3f1ae2dabbbd",
   "metadata": {},
   "outputs": [
    {
     "data": {
      "text/html": [
       "<div>\n",
       "<style scoped>\n",
       "    .dataframe tbody tr th:only-of-type {\n",
       "        vertical-align: middle;\n",
       "    }\n",
       "\n",
       "    .dataframe tbody tr th {\n",
       "        vertical-align: top;\n",
       "    }\n",
       "\n",
       "    .dataframe thead th {\n",
       "        text-align: right;\n",
       "    }\n",
       "</style>\n",
       "<table border=\"1\" class=\"dataframe\">\n",
       "  <thead>\n",
       "    <tr style=\"text-align: right;\">\n",
       "      <th></th>\n",
       "      <th>id</th>\n",
       "      <th>review</th>\n",
       "      <th>rating</th>\n",
       "      <th>fresh</th>\n",
       "      <th>critic</th>\n",
       "      <th>top_critic</th>\n",
       "      <th>publisher</th>\n",
       "      <th>date</th>\n",
       "    </tr>\n",
       "  </thead>\n",
       "  <tbody>\n",
       "    <tr>\n",
       "      <th>24</th>\n",
       "      <td>3</td>\n",
       "      <td>The rapid dialogue is dry and mannered, like a...</td>\n",
       "      <td>2.5/4</td>\n",
       "      <td>rotten</td>\n",
       "      <td>Joe Williams</td>\n",
       "      <td>1</td>\n",
       "      <td>St. Louis Post-Dispatch</td>\n",
       "      <td>September 6, 2012</td>\n",
       "    </tr>\n",
       "    <tr>\n",
       "      <th>47</th>\n",
       "      <td>3</td>\n",
       "      <td>It feels like each and every moment bursts for...</td>\n",
       "      <td>2/4</td>\n",
       "      <td>rotten</td>\n",
       "      <td>Stephanie Merry</td>\n",
       "      <td>1</td>\n",
       "      <td>Washington Post</td>\n",
       "      <td>August 24, 2012</td>\n",
       "    </tr>\n",
       "    <tr>\n",
       "      <th>50</th>\n",
       "      <td>3</td>\n",
       "      <td>There's not really a movie there, nothing that...</td>\n",
       "      <td>2/4</td>\n",
       "      <td>rotten</td>\n",
       "      <td>Mick LaSalle</td>\n",
       "      <td>1</td>\n",
       "      <td>San Francisco Chronicle</td>\n",
       "      <td>August 23, 2012</td>\n",
       "    </tr>\n",
       "    <tr>\n",
       "      <th>54</th>\n",
       "      <td>3</td>\n",
       "      <td>The film is all too faithful to its un-cinemat...</td>\n",
       "      <td>1.5/4</td>\n",
       "      <td>rotten</td>\n",
       "      <td>Colin Covert</td>\n",
       "      <td>1</td>\n",
       "      <td>Minneapolis Star Tribune</td>\n",
       "      <td>August 23, 2012</td>\n",
       "    </tr>\n",
       "    <tr>\n",
       "      <th>55</th>\n",
       "      <td>3</td>\n",
       "      <td>Cosmopolis,\" because of its allegiance to the ...</td>\n",
       "      <td>2/4</td>\n",
       "      <td>rotten</td>\n",
       "      <td>Moira MacDonald</td>\n",
       "      <td>1</td>\n",
       "      <td>Seattle Times</td>\n",
       "      <td>August 23, 2012</td>\n",
       "    </tr>\n",
       "  </tbody>\n",
       "</table>\n",
       "</div>"
      ],
      "text/plain": [
       "    id                                             review rating   fresh  \\\n",
       "24   3  The rapid dialogue is dry and mannered, like a...  2.5/4  rotten   \n",
       "47   3  It feels like each and every moment bursts for...    2/4  rotten   \n",
       "50   3  There's not really a movie there, nothing that...    2/4  rotten   \n",
       "54   3  The film is all too faithful to its un-cinemat...  1.5/4  rotten   \n",
       "55   3  Cosmopolis,\" because of its allegiance to the ...    2/4  rotten   \n",
       "\n",
       "             critic  top_critic                 publisher               date  \n",
       "24     Joe Williams           1   St. Louis Post-Dispatch  September 6, 2012  \n",
       "47  Stephanie Merry           1           Washington Post    August 24, 2012  \n",
       "50     Mick LaSalle           1   San Francisco Chronicle    August 23, 2012  \n",
       "54     Colin Covert           1  Minneapolis Star Tribune    August 23, 2012  \n",
       "55  Moira MacDonald           1             Seattle Times    August 23, 2012  "
      ]
     },
     "execution_count": 84,
     "metadata": {},
     "output_type": "execute_result"
    }
   ],
   "source": [
    "df3_count_review = {}\n",
    "df3_top_critic.head()\n"
   ]
  },
  {
   "cell_type": "code",
   "execution_count": 86,
   "id": "4df41b35-394d-43fa-a322-9049ef5f6b61",
   "metadata": {},
   "outputs": [
    {
     "name": "stdout",
     "output_type": "stream",
     "text": [
      "<class 'pandas.core.frame.DataFrame'>\n",
      "RangeIndex: 1560 entries, 0 to 1559\n",
      "Data columns (total 12 columns):\n",
      " #   Column        Non-Null Count  Dtype \n",
      "---  ------        --------------  ----- \n",
      " 0   id            1560 non-null   int64 \n",
      " 1   synopsis      1498 non-null   object\n",
      " 2   rating        1557 non-null   object\n",
      " 3   genre         1552 non-null   object\n",
      " 4   director      1361 non-null   object\n",
      " 5   writer        1111 non-null   object\n",
      " 6   theater_date  1201 non-null   object\n",
      " 7   dvd_date      1201 non-null   object\n",
      " 8   currency      340 non-null    object\n",
      " 9   box_office    340 non-null    object\n",
      " 10  runtime       1530 non-null   object\n",
      " 11  studio        494 non-null    object\n",
      "dtypes: int64(1), object(11)\n",
      "memory usage: 146.4+ KB\n"
     ]
    }
   ],
   "source": [
    "df_4.head()\n",
    "df_4.sort_values('box_office')    #Not alot of info like the other data set\n",
    "df_4.isna().sum()    #1560 entires, 1220 are NaN. Data set not usable for current project.\n",
    "df_4.info()"
   ]
  },
  {
   "cell_type": "code",
   "execution_count": 87,
   "id": "b63cdce1-3eff-47dc-83db-a596d9e8ca0d",
   "metadata": {},
   "outputs": [
    {
     "data": {
      "text/html": [
       "<div>\n",
       "<style scoped>\n",
       "    .dataframe tbody tr th:only-of-type {\n",
       "        vertical-align: middle;\n",
       "    }\n",
       "\n",
       "    .dataframe tbody tr th {\n",
       "        vertical-align: top;\n",
       "    }\n",
       "\n",
       "    .dataframe thead th {\n",
       "        text-align: right;\n",
       "    }\n",
       "</style>\n",
       "<table border=\"1\" class=\"dataframe\">\n",
       "  <thead>\n",
       "    <tr style=\"text-align: right;\">\n",
       "      <th></th>\n",
       "      <th>title,studio,domestic_gross,foreign_gross,year</th>\n",
       "    </tr>\n",
       "  </thead>\n",
       "  <tbody>\n",
       "    <tr>\n",
       "      <th>0</th>\n",
       "      <td>Toy Story 3,BV,415000000.0,652000000,2010</td>\n",
       "    </tr>\n",
       "    <tr>\n",
       "      <th>1</th>\n",
       "      <td>Alice in Wonderland (2010),BV,334200000.0,6913...</td>\n",
       "    </tr>\n",
       "    <tr>\n",
       "      <th>2</th>\n",
       "      <td>Harry Potter and the Deathly Hallows Part 1,WB...</td>\n",
       "    </tr>\n",
       "    <tr>\n",
       "      <th>3</th>\n",
       "      <td>Inception,WB,292600000.0,535700000,2010</td>\n",
       "    </tr>\n",
       "    <tr>\n",
       "      <th>4</th>\n",
       "      <td>Shrek Forever After,P/DW,238700000.0,513900000...</td>\n",
       "    </tr>\n",
       "    <tr>\n",
       "      <th>...</th>\n",
       "      <td>...</td>\n",
       "    </tr>\n",
       "    <tr>\n",
       "      <th>3382</th>\n",
       "      <td>The Quake,Magn.,6200.0,,2018</td>\n",
       "    </tr>\n",
       "    <tr>\n",
       "      <th>3383</th>\n",
       "      <td>Edward II (2018 re-release),FM,4800.0,,2018</td>\n",
       "    </tr>\n",
       "    <tr>\n",
       "      <th>3384</th>\n",
       "      <td>El Pacto,Sony,2500.0,,2018</td>\n",
       "    </tr>\n",
       "    <tr>\n",
       "      <th>3385</th>\n",
       "      <td>The Swan,Synergetic,2400.0,,2018</td>\n",
       "    </tr>\n",
       "    <tr>\n",
       "      <th>3386</th>\n",
       "      <td>An Actor Prepares,Grav.,1700.0,,2018</td>\n",
       "    </tr>\n",
       "  </tbody>\n",
       "</table>\n",
       "<p>3387 rows × 1 columns</p>\n",
       "</div>"
      ],
      "text/plain": [
       "         title,studio,domestic_gross,foreign_gross,year\n",
       "0             Toy Story 3,BV,415000000.0,652000000,2010\n",
       "1     Alice in Wonderland (2010),BV,334200000.0,6913...\n",
       "2     Harry Potter and the Deathly Hallows Part 1,WB...\n",
       "3               Inception,WB,292600000.0,535700000,2010\n",
       "4     Shrek Forever After,P/DW,238700000.0,513900000...\n",
       "...                                                 ...\n",
       "3382                       The Quake,Magn.,6200.0,,2018\n",
       "3383        Edward II (2018 re-release),FM,4800.0,,2018\n",
       "3384                         El Pacto,Sony,2500.0,,2018\n",
       "3385                   The Swan,Synergetic,2400.0,,2018\n",
       "3386               An Actor Prepares,Grav.,1700.0,,2018\n",
       "\n",
       "[3387 rows x 1 columns]"
      ]
     },
     "execution_count": 87,
     "metadata": {},
     "output_type": "execute_result"
    }
   ],
   "source": [
    "df_5"
   ]
  },
  {
   "cell_type": "code",
   "execution_count": null,
   "id": "45b3f932-2b1a-4614-a7a8-71a81b55552d",
   "metadata": {},
   "outputs": [],
   "source": []
  }
 ],
 "metadata": {
  "kernelspec": {
   "display_name": "Python 3 (ipykernel)",
   "language": "python",
   "name": "python3"
  },
  "language_info": {
   "codemirror_mode": {
    "name": "ipython",
    "version": 3
   },
   "file_extension": ".py",
   "mimetype": "text/x-python",
   "name": "python",
   "nbconvert_exporter": "python",
   "pygments_lexer": "ipython3",
   "version": "3.9.13"
  },
  "toc-autonumbering": true,
  "toc-showmarkdowntxt": false,
  "toc-showtags": false
 },
 "nbformat": 4,
 "nbformat_minor": 5
}
