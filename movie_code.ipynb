{
 "cells": [
  {
   "cell_type": "markdown",
   "id": "82f6577f",
   "metadata": {
    "tags": []
   },
   "source": [
    "# Phase 1 - Project 1"
   ]
  },
  {
   "cell_type": "markdown",
   "id": "dbf355eb",
   "metadata": {
    "tags": []
   },
   "source": [
    "## Data Imports"
   ]
  },
  {
   "cell_type": "code",
   "execution_count": null,
   "id": "03be18f8",
   "metadata": {},
   "outputs": [],
   "source": [
    "import csv    #for the cvs and txv files\n",
    "import sqlite3 as sql   #for the db file\n",
    "import pandas as pd    #Help visualize the data\n",
    "import matplotlib.pyplot as plt\n",
    "import numpy as np\n",
    "import math\n",
    "%matplotlib inline"
   ]
  },
  {
   "cell_type": "markdown",
   "id": "cc6d1e1c",
   "metadata": {
    "jp-MarkdownHeadingCollapsed": true,
    "tags": []
   },
   "source": [
    "## Read All files\n",
    "Sample the files to see the contents\n"
   ]
  },
  {
   "cell_type": "code",
   "execution_count": null,
   "id": "90447a44",
   "metadata": {},
   "outputs": [],
   "source": [
    "df_1 = pd.read_csv(\"data/tmdb.movies.csv.gz\")    #Main use, pull best and worst genre based on rating\n",
    "df_1.head()"
   ]
  },
  {
   "cell_type": "code",
   "execution_count": null,
   "id": "d80932e8",
   "metadata": {},
   "outputs": [],
   "source": [
    "df_2 = pd.read_csv(\"data/tn.movie_budgets.csv.gz\")\n",
    "df_2.head()"
   ]
  },
  {
   "cell_type": "markdown",
   "id": "8f3c32dc",
   "metadata": {},
   "source": [
    "https://docs.python.org/3/library/codecs.html#standard-encodings - Helped with finding valid encoding "
   ]
  },
  {
   "cell_type": "code",
   "execution_count": null,
   "id": "1c4b98ec",
   "metadata": {},
   "outputs": [],
   "source": [
    "df_3 = pd.read_csv('data/rt.reviews.tsv.gz',delimiter = '\\t', encoding = 'cp437' )\n",
    "df_3.head()"
   ]
  },
  {
   "cell_type": "code",
   "execution_count": null,
   "id": "f514dc53",
   "metadata": {},
   "outputs": [],
   "source": [
    "df_4 = pd.read_csv('data/rt.movie_info.tsv.gz',delimiter = '\\t')\n",
    "df_4.head()"
   ]
  },
  {
   "cell_type": "code",
   "execution_count": null,
   "id": "821e2cbf",
   "metadata": {},
   "outputs": [],
   "source": [
    "df_5 = pd.read_csv('data/bom.movie_gross.csv.gz',delimiter = '\\t')\n",
    "df_5.head()"
   ]
  },
  {
   "cell_type": "code",
   "execution_count": null,
   "id": "2dd690ba",
   "metadata": {},
   "outputs": [],
   "source": [
    "conn = sql.connect('data/im.db/im.db')\n",
    "\n",
    "#pd.read_sql('SELECT * FROM  zipfile(data/im.db.zip)', conn)   #https://www.sqlite.org/zipfile.html"
   ]
  },
  {
   "cell_type": "code",
   "execution_count": null,
   "id": "13c09db1",
   "metadata": {},
   "outputs": [],
   "source": [
    "pd.read_sql(\"\"\"SELECT * FROM persons\"\"\", conn)"
   ]
  },
  {
   "cell_type": "code",
   "execution_count": null,
   "id": "21449094",
   "metadata": {},
   "outputs": [],
   "source": [
    "\n"
   ]
  },
  {
   "cell_type": "markdown",
   "id": "2434b53f",
   "metadata": {
    "tags": []
   },
   "source": [
    "## Data Cleaning"
   ]
  },
  {
   "cell_type": "markdown",
   "id": "d8a801db",
   "metadata": {
    "jp-MarkdownHeadingCollapsed": true,
    "tags": []
   },
   "source": [
    "### The Movie DB \n",
    "Useful keys: Popularity, vote count, vote average"
   ]
  },
  {
   "cell_type": "markdown",
   "id": "89aec3db",
   "metadata": {
    "jp-MarkdownHeadingCollapsed": true,
    "tags": []
   },
   "source": [
    "#### Data Exploration"
   ]
  },
  {
   "cell_type": "code",
   "execution_count": null,
   "id": "1894d390",
   "metadata": {},
   "outputs": [],
   "source": [
    "print(df_1.columns)\n",
    "df_1['genre_ids']    #What does these numbers mean? - \n",
    "df_1['id']    #Each movie has a unique id? \n",
    "df_1['original_language']    #Only english movies? - No, there are multiples\n",
    "df_1['original_title']     #Title of the movie\n",
    "df_1['popularity']    #Ranking out of ... 100 , Website looks like percentage - based on amount timed watched?\n",
    "df_1.sort_values('popularity').tail()\n",
    "#Release data, title are pretty obvious, may need to look in title vs original title\n",
    "df_1.loc[df_1['vote_average'] == 0]  #Quite a few with not votes and therefore no vote average\n",
    "#df_1['vote_average'].plot(kind = 'hist')    #- Suject to remove with no votes\n"
   ]
  },
  {
   "cell_type": "markdown",
   "id": "013c6496",
   "metadata": {
    "tags": []
   },
   "source": [
    "#### Data Filtering"
   ]
  },
  {
   "cell_type": "code",
   "execution_count": null,
   "id": "ec4b3f02",
   "metadata": {},
   "outputs": [],
   "source": [
    "####   Data Cleaning    ###\n",
    "print(df_1.info())    #Unknown column\n",
    "df_1['Unnamed: 0']    #No use, index column\n",
    "df_1.drop(\"Unnamed: 0\", axis = 1, inplace= True)   #Remove the column\n",
    "df_1.columns    #Confirm the drop"
   ]
  },
  {
   "cell_type": "code",
   "execution_count": null,
   "id": "cc40ed9a",
   "metadata": {},
   "outputs": [],
   "source": [
    "###    Check missing values    ###\n",
    "print (df_1.isna().sum())    #No NaN values\n",
    "print (df_1.isnull().sum())    #No Null Values\n"
   ]
  },
  {
   "cell_type": "code",
   "execution_count": null,
   "id": "76dbf405",
   "metadata": {},
   "outputs": [],
   "source": [
    "###    Remove dups    ###\n",
    "df_1.duplicated().sum()    #There are duplicated movies? Multiple languages?\n",
    "df_1[df_1.duplicated(keep = False)].sort_values(by = 'id')    #Looks like straight copies - Need to remove\n",
    "df_1.drop_duplicates(inplace = True)    #Remove dups\n",
    "df_1.duplicated().sum()   #Check again for dups\n"
   ]
  },
  {
   "cell_type": "markdown",
   "id": "9f41ee25",
   "metadata": {
    "tags": []
   },
   "source": [
    "#### Data Visualization\n",
    "Important columns: popularity and genre\n"
   ]
  },
  {
   "cell_type": "code",
   "execution_count": null,
   "id": "b09de9ea",
   "metadata": {},
   "outputs": [],
   "source": [
    "#Sort by popularity to see whats type of movies are the best\n",
    "df_1.sort_values('popularity', inplace = True,ascending= False)\n",
    "\n",
    "df_1['genre_ids'] = ((df_1['genre_ids'].map(lambda x: x.strip('[]'))).map(lambda x: x.replace(' ', ''))).map(lambda x: x.split(','))\n",
    "df_1['genre_ids'][0]\n",
    "df1_top_movies = df_1[0:100]\n",
    "df1_worst_movie = df_1[-100:]"
   ]
  },
  {
   "cell_type": "markdown",
   "id": "6e1da15a",
   "metadata": {
    "tags": []
   },
   "source": [
    "##### Graphs"
   ]
  },
  {
   "cell_type": "code",
   "execution_count": null,
   "id": "f845209b",
   "metadata": {},
   "outputs": [],
   "source": [
    "# Convert the genre id to names for understanding purposes\n",
    "convert = {'28' : 'Action', '12': 'Adventure', '35': 'Comedy', '99': 'Documentary', \n",
    "           '18': 'Drama', '14': 'Fantasy', '27': 'Horror', '878' : 'Sci-Fi', '53' : 'Thriller',\n",
    "           '16': 'Animation', '80' : 'Crime', '10751' : 'Family','14':'Fantasy',\n",
    "           \"36\" : 'History','27': 'Horror', '10402':'Music', '9648':'Mystery',\n",
    "           '10749':'Romance','10770': 'TV Movie','10752': 'War','37':'Western', '': \"NULL\" }\n",
    "\n",
    "# Function count all the genre and group them\n",
    "def count_genre(df_list):\n",
    "    genre_count = {}    #https://www.themoviedb.org/talk/5daf6eb0ae36680011d7e6ee\n",
    "\n",
    "    for genre in df_list['genre_ids']:\n",
    "        for ids in genre:\n",
    "            if(genre_count.get(convert[ids])):\n",
    "                genre_count[convert[ids]] += 1\n",
    "            else:\n",
    "                genre_count[convert[ids]] = 1\n",
    "    return sorted(genre_count.items(), key = lambda x: x[1], reverse=True)\n",
    "   \n",
    "df1_top_genre = count_genre(df1_top_movies)    #Top genre from the most popular movies\n",
    "df1_worst_genre = count_genre(df1_worst_movie)    #Top genre from teh worst movies\n",
    "x, y = zip(*df1_top_genre)    #Seperate the tuple into movie and count\n",
    "x2,y2 = zip(*df1_worst_genre)\n",
    "\n",
    "\n",
    "fig, ax = plt.subplots(1,2, figsize = (20,10))\n",
    "colors1 = ['red' if genre in x2[0:5] else 'green' for genre in x]    #Red for genre in the worst genre list\n",
    "colors2 = ['cyan' if genre in x[0:5] else 'black' for genre in x2]    #Cyan for genre in the top genre list\n",
    "\n",
    "ax[0].barh(x,y, color = colors1);\n",
    "ax[0].set_xlabel(\"Frequency\");\n",
    "ax[0].set_ylabel(\"Genre\");\n",
    "ax[0].set_title(\"Best Genre from Top 100 Movies\");\n",
    "ax[0].legend([\"Good Tags\"]);\n",
    "\n",
    "ax[1].barh(x2,y2, color = colors2);\n",
    "ax[1].set_xlabel(\"Frequency\");\n",
    "ax[1].set_ylabel(\"Genre\");\n",
    "ax[1].set_title(\"Worst Genre from Worst 100 Movies\");\n",
    "ax[1].legend([\"Bad Tags\"]);"
   ]
  },
  {
   "cell_type": "markdown",
   "id": "b2e899d7",
   "metadata": {
    "tags": []
   },
   "source": [
    "### The Number"
   ]
  },
  {
   "cell_type": "markdown",
   "id": "9ca12b69",
   "metadata": {
    "tags": []
   },
   "source": [
    "#### Data Exploration"
   ]
  },
  {
   "cell_type": "code",
   "execution_count": null,
   "id": "8176a02a",
   "metadata": {},
   "outputs": [],
   "source": [
    "df_2.duplicated().sum()    #No dups?\n",
    "df_2.isna().sum()    #No NaN\n",
    "df_2.isnull().sum()    #No Null\n",
    "df_2.info()    #All usable except release data right now"
   ]
  },
  {
   "cell_type": "markdown",
   "id": "c9b558fb",
   "metadata": {
    "tags": []
   },
   "source": [
    "#### Data Filtering"
   ]
  },
  {
   "cell_type": "code",
   "execution_count": null,
   "id": "cc5a71cf",
   "metadata": {},
   "outputs": [],
   "source": [
    "###    Change the columns to integer for comparing and statistical methods    ###\n",
    "\n",
    "df_2['production_budget'] = df_2['production_budget'].map(lambda x: x.strip('$'))    #Take out the $\n",
    "df_2['production_budget'] = df_2['production_budget'].map(lambda x: x.replace(',',''))    #Remove the , \n",
    "df_2['production_budget'] = df_2['production_budget'].astype('int64')    #Convert to int64\n",
    "\n",
    "df_2['domestic_gross'] = df_2['domestic_gross'].map(lambda x: x.strip('$'))    #Take out the $\n",
    "df_2['domestic_gross'] = df_2['domestic_gross'].map(lambda x: x.replace(',',''))    #Remove the , \n",
    "df_2['domestic_gross'] = df_2['domestic_gross'].astype('int64')\n",
    "\n",
    "df_2['worldwide_gross'] = df_2['worldwide_gross'].map(lambda x: x.strip('$'))   #Take out the $\n",
    "df_2['worldwide_gross'] = df_2['worldwide_gross'].map(lambda x: x.replace(',',''))    #Remove the , \n",
    "df_2['worldwide_gross'] = df_2['worldwide_gross'].astype('int64')"
   ]
  },
  {
   "cell_type": "code",
   "execution_count": null,
   "id": "249f87bd",
   "metadata": {},
   "outputs": [],
   "source": [
    "###   Make the ratio for both the profit\n",
    "df_2['prod_dom_ratio'] = df_2['domestic_gross'] / df_2['production_budget']    #Ratio on the more proftitable movie - Domestic\n",
    "df_2['prod_world_ratio'] = df_2['worldwide_gross'] / df_2['production_budget']    #Ratio on the more proftitable movie - worldwide\n",
    "df_2.sort_values(['prod_dom_ratio'], ascending= False, inplace= True)\n",
    "df_2.head(10)     #One outlier...I see\n",
    "###   Domestic to Budget    ###\n",
    "print((df_2['prod_dom_ratio'] > 1).sum())    #Half the movie broke even - Categorical?\n",
    "print((df_2['prod_dom_ratio'] > 2).sum())    #1/4 of the movie doubled <- Goal\n",
    "print((df_2['prod_dom_ratio'] > 3).sum())    #Best case for most movies \n",
    "###   World to Budget    ###\n",
    "df_2.sort_values(['worldwide_gross'], ascending= False, inplace= True)\n",
    "print((df_2['prod_world_ratio'] > 1).sum()) \n",
    "print((df_2['prod_world_ratio'] > 2).sum())\n",
    "print((df_2['prod_world_ratio'] > 3).sum())   "
   ]
  },
  {
   "cell_type": "markdown",
   "id": "23d6b504-15f2-43a9-a9de-51c80fc79cef",
   "metadata": {},
   "source": [
    "##### Ratio for domestic gross "
   ]
  },
  {
   "cell_type": "code",
   "execution_count": null,
   "id": "1db4cc1f",
   "metadata": {},
   "outputs": [],
   "source": [
    "# Titles from the first dataset\n",
    "df1_top_list = list(df1_top_movies['title'])    #Top 100 movies from the first dataset\n",
    "df1_top_list\n"
   ]
  },
  {
   "cell_type": "code",
   "execution_count": 172,
   "id": "bd6c3ea4-21eb-4aef-8a53-c4e9230b14bd",
   "metadata": {},
   "outputs": [
    {
     "name": "stdout",
     "output_type": "stream",
     "text": [
      "1297\n",
      "2125\n"
     ]
    },
    {
     "data": {
      "text/html": [
       "<div>\n",
       "<style scoped>\n",
       "    .dataframe tbody tr th:only-of-type {\n",
       "        vertical-align: middle;\n",
       "    }\n",
       "\n",
       "    .dataframe tbody tr th {\n",
       "        vertical-align: top;\n",
       "    }\n",
       "\n",
       "    .dataframe thead th {\n",
       "        text-align: right;\n",
       "    }\n",
       "</style>\n",
       "<table border=\"1\" class=\"dataframe\">\n",
       "  <thead>\n",
       "    <tr style=\"text-align: right;\">\n",
       "      <th></th>\n",
       "      <th>id</th>\n",
       "      <th>release_date</th>\n",
       "      <th>movie</th>\n",
       "      <th>production_budget</th>\n",
       "      <th>domestic_gross</th>\n",
       "      <th>worldwide_gross</th>\n",
       "      <th>prod_dom_ratio</th>\n",
       "      <th>prod_world_ratio</th>\n",
       "    </tr>\n",
       "  </thead>\n",
       "  <tbody>\n",
       "    <tr>\n",
       "      <th>5745</th>\n",
       "      <td>46</td>\n",
       "      <td>Jun 30, 1972</td>\n",
       "      <td>Deep Throat</td>\n",
       "      <td>25000</td>\n",
       "      <td>45000000</td>\n",
       "      <td>45000000</td>\n",
       "      <td>1800.000000</td>\n",
       "      <td>1800.000000</td>\n",
       "    </tr>\n",
       "    <tr>\n",
       "      <th>5613</th>\n",
       "      <td>14</td>\n",
       "      <td>Mar 21, 1980</td>\n",
       "      <td>Mad Max</td>\n",
       "      <td>200000</td>\n",
       "      <td>8750000</td>\n",
       "      <td>99750000</td>\n",
       "      <td>43.750000</td>\n",
       "      <td>498.750000</td>\n",
       "    </tr>\n",
       "    <tr>\n",
       "      <th>5492</th>\n",
       "      <td>93</td>\n",
       "      <td>Sep 25, 2009</td>\n",
       "      <td>Paranormal Activity</td>\n",
       "      <td>450000</td>\n",
       "      <td>107918810</td>\n",
       "      <td>194183034</td>\n",
       "      <td>239.819578</td>\n",
       "      <td>431.517853</td>\n",
       "    </tr>\n",
       "    <tr>\n",
       "      <th>5679</th>\n",
       "      <td>80</td>\n",
       "      <td>Jul 10, 2015</td>\n",
       "      <td>The Gallows</td>\n",
       "      <td>100000</td>\n",
       "      <td>22764410</td>\n",
       "      <td>41656474</td>\n",
       "      <td>227.644100</td>\n",
       "      <td>416.564740</td>\n",
       "    </tr>\n",
       "    <tr>\n",
       "      <th>5406</th>\n",
       "      <td>7</td>\n",
       "      <td>Jul 14, 1999</td>\n",
       "      <td>The Blair Witch Project</td>\n",
       "      <td>600000</td>\n",
       "      <td>140539099</td>\n",
       "      <td>248300000</td>\n",
       "      <td>234.231832</td>\n",
       "      <td>413.833333</td>\n",
       "    </tr>\n",
       "    <tr>\n",
       "      <th>...</th>\n",
       "      <td>...</td>\n",
       "      <td>...</td>\n",
       "      <td>...</td>\n",
       "      <td>...</td>\n",
       "      <td>...</td>\n",
       "      <td>...</td>\n",
       "      <td>...</td>\n",
       "      <td>...</td>\n",
       "    </tr>\n",
       "    <tr>\n",
       "      <th>5757</th>\n",
       "      <td>58</td>\n",
       "      <td>Dec 1, 2003</td>\n",
       "      <td>Steel Spirit</td>\n",
       "      <td>20000</td>\n",
       "      <td>0</td>\n",
       "      <td>0</td>\n",
       "      <td>0.000000</td>\n",
       "      <td>0.000000</td>\n",
       "    </tr>\n",
       "    <tr>\n",
       "      <th>5698</th>\n",
       "      <td>99</td>\n",
       "      <td>Jul 7, 2015</td>\n",
       "      <td>Tiger Orange</td>\n",
       "      <td>100000</td>\n",
       "      <td>0</td>\n",
       "      <td>0</td>\n",
       "      <td>0.000000</td>\n",
       "      <td>0.000000</td>\n",
       "    </tr>\n",
       "    <tr>\n",
       "      <th>1207</th>\n",
       "      <td>8</td>\n",
       "      <td>Nov 22, 2019</td>\n",
       "      <td>The Rhythm Section</td>\n",
       "      <td>50000000</td>\n",
       "      <td>0</td>\n",
       "      <td>0</td>\n",
       "      <td>0.000000</td>\n",
       "      <td>0.000000</td>\n",
       "    </tr>\n",
       "    <tr>\n",
       "      <th>4990</th>\n",
       "      <td>91</td>\n",
       "      <td>Jul 9, 2013</td>\n",
       "      <td>Coffee Town</td>\n",
       "      <td>2000000</td>\n",
       "      <td>0</td>\n",
       "      <td>0</td>\n",
       "      <td>0.000000</td>\n",
       "      <td>0.000000</td>\n",
       "    </tr>\n",
       "    <tr>\n",
       "      <th>671</th>\n",
       "      <td>72</td>\n",
       "      <td>Dec 31, 2019</td>\n",
       "      <td>355</td>\n",
       "      <td>75000000</td>\n",
       "      <td>0</td>\n",
       "      <td>0</td>\n",
       "      <td>0.000000</td>\n",
       "      <td>0.000000</td>\n",
       "    </tr>\n",
       "  </tbody>\n",
       "</table>\n",
       "<p>5782 rows × 8 columns</p>\n",
       "</div>"
      ],
      "text/plain": [
       "      id  release_date                    movie  production_budget  \\\n",
       "5745  46  Jun 30, 1972              Deep Throat              25000   \n",
       "5613  14  Mar 21, 1980                  Mad Max             200000   \n",
       "5492  93  Sep 25, 2009      Paranormal Activity             450000   \n",
       "5679  80  Jul 10, 2015              The Gallows             100000   \n",
       "5406   7  Jul 14, 1999  The Blair Witch Project             600000   \n",
       "...   ..           ...                      ...                ...   \n",
       "5757  58   Dec 1, 2003             Steel Spirit              20000   \n",
       "5698  99   Jul 7, 2015             Tiger Orange             100000   \n",
       "1207   8  Nov 22, 2019       The Rhythm Section           50000000   \n",
       "4990  91   Jul 9, 2013              Coffee Town            2000000   \n",
       "671   72  Dec 31, 2019                      355           75000000   \n",
       "\n",
       "      domestic_gross  worldwide_gross  prod_dom_ratio  prod_world_ratio  \n",
       "5745        45000000         45000000     1800.000000       1800.000000  \n",
       "5613         8750000         99750000       43.750000        498.750000  \n",
       "5492       107918810        194183034      239.819578        431.517853  \n",
       "5679        22764410         41656474      227.644100        416.564740  \n",
       "5406       140539099        248300000      234.231832        413.833333  \n",
       "...              ...              ...             ...               ...  \n",
       "5757               0                0        0.000000          0.000000  \n",
       "5698               0                0        0.000000          0.000000  \n",
       "1207               0                0        0.000000          0.000000  \n",
       "4990               0                0        0.000000          0.000000  \n",
       "671                0                0        0.000000          0.000000  \n",
       "\n",
       "[5782 rows x 8 columns]"
      ]
     },
     "execution_count": 172,
     "metadata": {},
     "output_type": "execute_result"
    }
   ],
   "source": [
    "###    Production vs Domestic Ratio    ###\n",
    "df_2.sort_values(['prod_dom_ratio'], ascending= False, inplace= True)\n",
    "df2_most_prof = df_2['movie'].loc[df_2['prod_dom_ratio'] > 1]\n",
    "df2_most_prof_2 = df_2['movie'].loc[df_2['prod_dom_ratio'] > 2]\n",
    "df2_most_prof_3 = df_2['movie'].loc[df_2['prod_dom_ratio'] > 3] \n",
    "###    Production vs WorldWide Ratio    ###\n",
    "df_2.sort_values(['prod_world_ratio'], ascending= False, inplace= True)\n",
    "df2_most_prof_world = df_2['movie'].loc[df_2['prod_world_ratio'] > 1]  \n",
    "df2_most_prof_2_world = df_2['movie'].loc[df_2['prod_world_ratio'] > 2]  \n",
    "df2_most_prof_3_world = df_2['movie'].loc[df_2['prod_world_ratio'] > 3]  \n",
    "print(len(df_2['movie'].loc[(df_2['prod_world_ratio'] <1) & (df_2['production_budget'] < 17000000)]))\n",
    "print(len(df_2['movie'].loc[(df_2['prod_world_ratio'] <1)]))\n",
    "df_2"
   ]
  },
  {
   "cell_type": "code",
   "execution_count": null,
   "id": "88186482-5358-473f-a030-71f1a8a94ae2",
   "metadata": {},
   "outputs": [],
   "source": [
    "###    Function that takes the data frame, takes the movie name if they are also in the top movie list    ###\n",
    "def list_of_movies(df_list):\n",
    "    movie_list = []    #Make a empty list\n",
    "    for name in df_list:    #For each movie in the list    \n",
    "        for top in df1_top_list:    #Check if any of the most popular list are in the second list\n",
    "            if(name == top):    #If match\n",
    "                movie_list.append(name)     #Add the list\n",
    "    return movie_list            "
   ]
  },
  {
   "cell_type": "code",
   "execution_count": null,
   "id": "fd3a2435-f090-453f-b964-a94b824219db",
   "metadata": {},
   "outputs": [],
   "source": [
    "###    Over_# is the list of genre based on the movies with the respective ratios\n",
    "###    If the movie is also in the most profitable list and the most popular list,\n",
    "###    they count the genre for that ratio\n",
    "over_1 = count_genre(df_1.loc[df_1['title'].isin(list_of_movies(df2_most_prof))])\n",
    "over_2 = count_genre(df_1.loc[df_1['title'].isin(list_of_movies(df2_most_prof_2))])\n",
    "over_3 = count_genre(df_1.loc[df_1['title'].isin(list_of_movies(df2_most_prof_3))])\n",
    "\n",
    "over_1_w = count_genre(df_1.loc[df_1['title'].isin(list_of_movies(df2_most_prof_world))])\n",
    "over_2_w = count_genre(df_1.loc[df_1['title'].isin(list_of_movies(df2_most_prof_2_world))])\n",
    "over_3_w = count_genre(df_1.loc[df_1['title'].isin(list_of_movies(df2_most_prof_3_world))])\n",
    "\n",
    "all_genre = count_genre(df_1)\n"
   ]
  },
  {
   "cell_type": "markdown",
   "id": "50da1935",
   "metadata": {
    "tags": []
   },
   "source": [
    "##### Data Comparison - Ratio of 3 and up"
   ]
  },
  {
   "cell_type": "code",
   "execution_count": null,
   "id": "91b13ba8-4220-4419-9302-66337af6e00b",
   "metadata": {},
   "outputs": [],
   "source": [
    "ax = plt.subplot()\n",
    "x, y = zip(*all_genre)\n",
    "\n",
    "\n",
    "#fig.suptitle('Domestic Gross Data', fontsize=15)\n",
    "ax.barh(x,y, color = 'red');\n",
    "ax.set_title('Most Popular Genre - All Movies');\n",
    "ax.set_xlabel('Frequency');\n",
    "ax.set_ylabel('Genre');"
   ]
  },
  {
   "cell_type": "code",
   "execution_count": null,
   "id": "b54cf6ca",
   "metadata": {},
   "outputs": [],
   "source": [
    "fig , ax = plt.subplots(2,2, figsize =(15, 10))\n",
    "x, y = zip(*over_1)\n",
    "x2, y2 = zip(*over_2)\n",
    "x3, y3 = zip(*over_3)\n",
    "\n",
    "fig.suptitle('Domestic Gross Data', fontsize=15)\n",
    "ax[0,0].barh(x,y, color = 'red', label = 'Over 1')\n",
    "ax[0,0].legend();\n",
    "ax[0,0].set_title('Most Popular Genre Based on Ratio: >1');\n",
    "ax[0,0].set_xlabel('Frequency')\n",
    "ax[0,0].set_ylabel('Genre')\n",
    "ax[0,0].set_xlim([0,45])\n",
    "\n",
    "ax[0,1].barh(x2,y2, color = 'blue',label = 'Over 2')\n",
    "ax[0,1].legend();\n",
    "ax[0,1].set_title('Most Popular Genre Based on Ratio: >2');\n",
    "ax[0,1].set_xlabel('Frequency')\n",
    "ax[0,1].set_ylabel('Genre')\n",
    "ax[0,1].set_xlim([0,45])\n",
    "\n",
    "ax[1,0].barh(x3,y3, color = 'green', label = 'Over 3')\n",
    "ax[1,0].legend();\n",
    "ax[1,0].set_title('Most Popular Genre Based on Ratio: >3');\n",
    "ax[1,0].set_xlabel('Frequency')\n",
    "ax[1,0].set_ylabel('Genre')\n",
    "ax[1,0].set_xlim([0,45])\n",
    "\n",
    "ax[1,1].barh(x,y, color = 'red', label = 'Over 1');\n",
    "ax[1,1].barh(x2,y2,  color = 'blue', label = 'Over 2');\n",
    "ax[1,1].barh(x3,y3,  color = 'green', label = 'Over 3');\n",
    "ax[1,1].legend();\n",
    "ax[1,1].set_title('Most Popular Genre Based on Ratio');\n",
    "ax[1,1].set_xlabel('Frequency')\n",
    "ax[1,1].set_ylabel('Genre')\n",
    "ax[1,1].set_xlim([0,45])"
   ]
  },
  {
   "cell_type": "code",
   "execution_count": null,
   "id": "d563d27d-6cc6-414a-9bed-3fe42de98b4b",
   "metadata": {},
   "outputs": [],
   "source": [
    "ax = plt.subplot()\n",
    "x, y = zip(*over_1)\n",
    "x2, y2 = zip(*over_2)\n",
    "x3, y3 = zip(*over_3)\n",
    "ax.barh(x,y, color = 'red', label = 'Over 1');\n",
    "ax.barh(x2,y2,  color = 'blue', label = 'Over 2');\n",
    "ax.barh(x3,y3,  color = 'green', label = 'Over 3');\n",
    "ax.legend();\n",
    "ax.set_xlabel('Frequency')\n",
    "ax.set_ylabel('Genre')\n",
    "ax.set_title('Most Popular Genre Based on Ratio');\n",
    "ax.set_xlim([0,45])"
   ]
  },
  {
   "cell_type": "code",
   "execution_count": null,
   "id": "6fdcd627-b4c3-409a-a47f-8c798d34a28b",
   "metadata": {},
   "outputs": [],
   "source": [
    "fig2 , ax2 = plt.subplots(2,2, figsize =(15, 10))\n",
    "x4, y4 = zip(*over_1_w)\n",
    "x5, y5 = zip(*over_2_w)\n",
    "x6, y6 = zip(*over_3_w)\n",
    "\n",
    "fig2.suptitle('Foreign Gross Data', fontsize=15)\n",
    "ax2[0,0].barh(x4,y4, color = 'red', label = 'Over 1')\n",
    "ax2[0,0].legend();\n",
    "ax2[0,0].set_title('Most Popular Genre Based on Ratio: >1');\n",
    "ax2[0,0].set_xlabel('Frequency')\n",
    "ax2[0,0].set_ylabel('Genre')\n",
    "ax2[0,0].set_xlim([0,60])\n",
    "\n",
    "ax2[0,1].barh(x5,y5, color = 'blue',label = 'Over 2')\n",
    "ax2[0,1].legend();\n",
    "ax2[0,1].set_title('Most Popular Genre Based on Ratio: >2');\n",
    "ax2[0,1].set_xlabel('Frequency')\n",
    "ax2[0,1].set_ylabel('Genre')\n",
    "ax2[0,1].set_xlim([0,60])\n",
    "\n",
    "ax2[1,0].barh(x6,y6, color = 'green', label = 'Over 3')\n",
    "ax2[1,0].legend();\n",
    "ax2[1,0].set_title('Most Popular Genre Based on Ratio: >3');\n",
    "ax2[1,0].set_xlabel('Frequency')\n",
    "ax2[1,0].set_ylabel('Genre')\n",
    "ax2[1,0].set_xlim([0,60])\n",
    "\n",
    "ax2[1,1].barh(x4,y4, color = 'red', label = 'Over 1');\n",
    "ax2[1,1].barh(x5,y5,  color = 'blue', label = 'Over 2');\n",
    "ax2[1,1].barh(x6,y6,  color = 'green', label = 'Over 3');\n",
    "ax2[1,1].legend();\n",
    "ax2[1,1].set_title('Most Popular Genre Based on Ratio');\n",
    "ax2[1,1].set_xlim([0,60])"
   ]
  },
  {
   "cell_type": "code",
   "execution_count": null,
   "id": "5c1201eb-b65b-48b7-83f7-3020f66f94eb",
   "metadata": {},
   "outputs": [],
   "source": [
    "print(\"Highest Worldwide Grossing movies all have higher than 3 ratio?\", over_1_w == over_2_w == over_3_w)\n",
    "print(\"\"\"Number of movies with a ratio of 1 and above? \n",
    "      Domestic: {}, Foreign: {} \"\"\".format(len(df2_most_prof),len(df2_most_prof_world)))\n",
    "print(\"\"\"Number of movies with a ratio of 2 and above? \n",
    "      Domestic: {}, Foreign: {} \"\"\".format(len(df2_most_prof_2),len(df2_most_prof_2_world)))\n",
    "print(\"\"\"Number of movies with a ratio of 3 and above? \n",
    "      Domestic: {}, Foreign: {} \"\"\".format(len(df2_most_prof_3),len(df2_most_prof_3_world)))\n",
    "print(\"\"\"Number of movies with a ratio of under 1? \n",
    "      Domestic: {}, Foreign: {} \"\"\".format(len(df_2['movie'].loc[df_2['prod_dom_ratio'] <= 1]),len(df_2['movie'].loc[df_2['prod_world_ratio'] <= 1])))\n"
   ]
  },
  {
   "cell_type": "code",
   "execution_count": null,
   "id": "cfa48f39-131f-4e9d-b371-347f180e1a9b",
   "metadata": {},
   "outputs": [],
   "source": [
    "df_2.sort_values(['production_budget'], ascending= False, inplace= True)\n",
    "IQR = df_2['prod_world_ratio'].quantile(.75) - df_2['prod_world_ratio'].quantile(.25)\n",
    "min_out = df_2['prod_world_ratio'].median() - IQR*1.5\n",
    "max_out = df_2['prod_world_ratio'].median() + IQR*1.5\n",
    "max_out\n",
    "outlier_removed = df_2.loc[df_2['prod_world_ratio'] < 6.607385548232989]\n",
    "outlier_removed['prod_world_ratio'].describe()\n",
    "scat_x = outlier_removed['production_budget'].loc[outlier_removed['prod_dom_ratio'] > 1]\n",
    "scat_y = outlier_removed['prod_dom_ratio'].loc[outlier_removed['prod_dom_ratio'] > 1]\n",
    "fig, ax = plt.subplots()\n",
    "ax.scatter(scat_x, scat_y , alpha= .2, color = 'green')\n",
    "#line = plt.axvline(200000000, color = 'red');\n",
    "ax.set_xlabel('Production Budget')\n",
    "ax.set_xticks([0,100000000,200000000]);\n",
    "ax.set_xlim(0,100000000)\n",
    "x = list(range(0,74000000,1000))\n",
    "y = [6-x2/15000000 for x2 in x]\n",
    "ax.axhline(1.7083098257683216 , color = 'blue', label = 'Median ratio');\n",
    "ax.axvline(17000000.0,color = 'cyan', label = 'Median Budget')\n",
    "ax.legend()\n",
    "ax.plot(x, y, color = 'red', alpha = .5)"
   ]
  },
  {
   "cell_type": "code",
   "execution_count": null,
   "id": "21689ec9-6be5-4350-a696-5fffd764d992",
   "metadata": {},
   "outputs": [],
   "source": [
    "IQR = df_2['prod_world_ratio'].quantile(.75) - df_2['prod_world_ratio'].quantile(.25)\n",
    "min_out = df_2['prod_world_ratio'].median() - IQR*1.5\n",
    "max_out = df_2['prod_world_ratio'].median() + IQR*1.5\n",
    "df_2['prod_world_ratio'].describe()\n",
    "df_2['production_budget'].median()\n",
    "df_2['production_budget'].quantile(.75)"
   ]
  },
  {
   "cell_type": "markdown",
   "id": "b8d1a7d8",
   "metadata": {},
   "source": [
    "##### Data Comparison - Ratio of 2 and upmedian"
   ]
  },
  {
   "cell_type": "markdown",
   "id": "e6a7613a",
   "metadata": {
    "tags": []
   },
   "source": [
    "#### Data Visualization"
   ]
  },
  {
   "cell_type": "markdown",
   "id": "d3e51583",
   "metadata": {
    "tags": []
   },
   "source": [
    "### Rotten Tomatoes"
   ]
  },
  {
   "cell_type": "markdown",
   "id": "5dbd4c67",
   "metadata": {},
   "source": [
    "Id is probably Movie ID \n",
    "Review are the written review of the critic\n",
    "Rating is out of 5\n",
    "Freshness appears to be 3>Fresh and lower is rotten\n",
    "Top critics are acclaimed critics on rottom tomatoes\n",
    "Publisher and Release data have no use at the moment\n"
   ]
  },
  {
   "cell_type": "code",
   "execution_count": null,
   "id": "0b300e8e",
   "metadata": {},
   "outputs": [],
   "source": [
    "df_3.head()\n",
    "#df_3.info()\n",
    "#df_3.isna().sum()\n",
    "df_3.loc[df_3['review'].isna()]\n",
    "df3_top_critic = df_3.loc[df_3['top_critic'] == 1]\n",
    "print(len(df3_top_critic['critic'].unique()))    #856 unique critics\n",
    "print(len(df3_top_critic))    #13096 review from top critics\n"
   ]
  },
  {
   "cell_type": "code",
   "execution_count": null,
   "id": "449ae135",
   "metadata": {},
   "outputs": [],
   "source": [
    "df3_count_review = {}\n",
    "df3_top_critic.head()\n"
   ]
  },
  {
   "cell_type": "code",
   "execution_count": null,
   "id": "954702ee",
   "metadata": {},
   "outputs": [],
   "source": [
    "df_4.head()\n",
    "df_4.sort_values('box_office')    #Not alot of info like the other data set\n",
    "df_4.isna().sum()    #1560 entires, 1220 are NaN. Data set not usable for current project.\n",
    "df_4.info()"
   ]
  },
  {
   "cell_type": "code",
   "execution_count": null,
   "id": "e6cee069",
   "metadata": {},
   "outputs": [],
   "source": [
    "df_5"
   ]
  },
  {
   "cell_type": "code",
   "execution_count": null,
   "id": "a748e460",
   "metadata": {},
   "outputs": [],
   "source": [
    "pd.read_sql(\"\"\"SELECT  persons.primary_name, AVG(averagerating), COUNT(movie_id)\n",
    "FROM movie_ratings\n",
    "JOIN movie_basics\n",
    "    USING (movie_id)\n",
    "JOIN directors\n",
    "    USING (movie_id)\n",
    "JOIN persons\n",
    "    USING (person_id)\n",
    "\n",
    "GROUP BY persons.primary_name\n",
    "HAVING AVG(averagerating) > 6.332729\n",
    "ORDER BY AVG(averagerating) DESC\n",
    "\"\"\", conn)"
   ]
  },
  {
   "cell_type": "code",
   "execution_count": null,
   "id": "7e775303-4b41-4678-bd34-fd71538e0671",
   "metadata": {},
   "outputs": [],
   "source": [
    "pd.read_sql(\"\"\"SELECT  primary_name, COUNT(movie_id)\n",
    "FROM movie_ratings\n",
    "\n",
    "\"\"\", conn)"
   ]
  },
  {
   "cell_type": "code",
   "execution_count": null,
   "id": "f8fd79ff-fc50-497c-92a5-3cb3cdf6be07",
   "metadata": {},
   "outputs": [],
   "source": [
    "pd.read_sql(\"\"\"SELECT persons.primary_name, COUNT(movie_id), AVG(averagerating)\n",
    "FROM movie_ratings\n",
    "JOIN movie_basics\n",
    "    USING (movie_id)\n",
    "JOIN directors\n",
    "    USING (movie_id)\n",
    "JOIN persons\n",
    "    USING (person_id)\n",
    "GROUP BY persons.primary_name\n",
    "HAVING AVG(averagerating) > 6.332729 AND COUNT(movie_id) > 10\n",
    "ORDER BY AVG(averagerating) DESC\n",
    "\"\"\", conn)"
   ]
  },
  {
   "cell_type": "code",
   "execution_count": null,
   "id": "d607ee4b-9bcd-40d7-91f6-f2dd6a59e649",
   "metadata": {},
   "outputs": [],
   "source": [
    "181387 movies\n",
    "73103 movies group by movie Id\n",
    "57241 movie group by person id"
   ]
  },
  {
   "cell_type": "code",
   "execution_count": null,
   "id": "c3188e2f-2f03-4d0d-80a4-97fbdb321ec2",
   "metadata": {},
   "outputs": [],
   "source": [
    "pd.read_sql(\"\"\"SELECT persons.primary_name, COUNT(movie_id), AVG(averagerating)\n",
    "FROM movie_ratings\n",
    "JOIN movie_basics\n",
    "    USING (movie_id)\n",
    "JOIN directors\n",
    "    USING (movie_id)\n",
    "JOIN persons\n",
    "    USING (person_id)\n",
    "GROUP BY persons.primary_name\n",
    "\n",
    "\"\"\", conn)"
   ]
  },
  {
   "cell_type": "code",
   "execution_count": null,
   "id": "7deaf8b0-57a4-4ef0-8b64-83acdbbe10cc",
   "metadata": {},
   "outputs": [],
   "source": [
    "list_of_directors= pd.read_sql(\"\"\"SELECT primary_title, persons.primary_name, COUNT(movie_id), AVG(averagerating)\n",
    "FROM movie_ratings\n",
    "JOIN movie_basics\n",
    "    USING (movie_id)\n",
    "JOIN directors\n",
    "    USING (movie_id)\n",
    "JOIN persons\n",
    "    USING (person_id)\n",
    "GROUP BY primary_title\n",
    "HAVING AVG(averagerating) > 6.332729 AND COUNT(movie_id) > 10\n",
    "\n",
    "ORDER BY AVG(averagerating) DESC\n",
    "LIMIT 100\n",
    "\"\"\", conn)"
   ]
  },
  {
   "cell_type": "code",
   "execution_count": null,
   "id": "3fce7039-675f-46e7-a2b4-6aa71bfcba4d",
   "metadata": {},
   "outputs": [],
   "source": [
    "list(list_of_directors['primary_title'])"
   ]
  },
  {
   "cell_type": "code",
   "execution_count": null,
   "id": "c1ba08c0-7f72-41ef-8a17-c87422b5e142",
   "metadata": {},
   "outputs": [],
   "source": [
    "best_dir_movies = []\n",
    "for movie in list(list_of_directors['primary_title']):\n",
    "    if movie in df1_top_list:\n",
    "        best_dir_movies.append(movie)\n",
    "best_dir_movies"
   ]
  },
  {
   "cell_type": "code",
   "execution_count": 174,
   "id": "9905834c-104f-4e8b-9712-f9dbabee017e",
   "metadata": {},
   "outputs": [],
   "source": [
    "Recommended_dir = pd.read_sql(\"\"\"SELECT primary_title AS 'Movie Title'\n",
    "                ,persons.primary_name AS 'Director Name'\n",
    "                , COUNT(movie_id) AS 'Number of Movies' \n",
    "                ,AVG(averagerating) AS 'Average Movie Ratings'\n",
    "FROM movie_ratings\n",
    "JOIN movie_basics\n",
    "    USING (movie_id)\n",
    "JOIN directors\n",
    "    USING (movie_id)\n",
    "JOIN persons\n",
    "    USING (person_id)\n",
    "WHERE primary_title IN ('Avengers: Infinity War',\n",
    "                         'How to Train Your Dragon',\n",
    "                         'Guardians of the Galaxy',\n",
    "                         'Zootopia',\n",
    "                         'Captain America: Civil War',\n",
    "                         'Big Hero 6',\n",
    "                         'Guardians of the Galaxy Vol. 2')\n",
    "GROUP BY primary_title\n",
    "HAVING AVG(averagerating) > 6.332729 AND COUNT(movie_id) > 10\n",
    "\n",
    "ORDER BY AVG(averagerating) DESC\n",
    "LIMIT 100\n",
    "\"\"\", conn)"
   ]
  },
  {
   "cell_type": "code",
   "execution_count": 173,
   "id": "84718c9a-60c5-47af-ab23-6ac71d5ba8d6",
   "metadata": {},
   "outputs": [
    {
     "data": {
      "text/plain": [
       "{'Anthony Russo',\n",
       " 'Byron Howard',\n",
       " 'Chris Williams',\n",
       " 'Dean DeBlois',\n",
       " 'James Gunn'}"
      ]
     },
     "execution_count": 173,
     "metadata": {},
     "output_type": "execute_result"
    }
   ],
   "source": [
    "set(Recommended_dir['Director Name'])"
   ]
  },
  {
   "cell_type": "code",
   "execution_count": 175,
   "id": "e9488f48-10f7-4140-85b3-ea750f63f65c",
   "metadata": {},
   "outputs": [
    {
     "data": {
      "text/html": [
       "<div>\n",
       "<style scoped>\n",
       "    .dataframe tbody tr th:only-of-type {\n",
       "        vertical-align: middle;\n",
       "    }\n",
       "\n",
       "    .dataframe tbody tr th {\n",
       "        vertical-align: top;\n",
       "    }\n",
       "\n",
       "    .dataframe thead th {\n",
       "        text-align: right;\n",
       "    }\n",
       "</style>\n",
       "<table border=\"1\" class=\"dataframe\">\n",
       "  <thead>\n",
       "    <tr style=\"text-align: right;\">\n",
       "      <th></th>\n",
       "      <th>Movie Title</th>\n",
       "      <th>Director Name</th>\n",
       "      <th>Number of Movies</th>\n",
       "      <th>Average Movie Ratings</th>\n",
       "    </tr>\n",
       "  </thead>\n",
       "  <tbody>\n",
       "    <tr>\n",
       "      <th>0</th>\n",
       "      <td>Avengers: Infinity War</td>\n",
       "      <td>Anthony Russo</td>\n",
       "      <td>24</td>\n",
       "      <td>8.5</td>\n",
       "    </tr>\n",
       "    <tr>\n",
       "      <th>1</th>\n",
       "      <td>How to Train Your Dragon</td>\n",
       "      <td>Dean DeBlois</td>\n",
       "      <td>12</td>\n",
       "      <td>8.1</td>\n",
       "    </tr>\n",
       "    <tr>\n",
       "      <th>2</th>\n",
       "      <td>Guardians of the Galaxy</td>\n",
       "      <td>James Gunn</td>\n",
       "      <td>11</td>\n",
       "      <td>8.1</td>\n",
       "    </tr>\n",
       "    <tr>\n",
       "      <th>3</th>\n",
       "      <td>Zootopia</td>\n",
       "      <td>Byron Howard</td>\n",
       "      <td>24</td>\n",
       "      <td>8.0</td>\n",
       "    </tr>\n",
       "    <tr>\n",
       "      <th>4</th>\n",
       "      <td>Captain America: Civil War</td>\n",
       "      <td>Anthony Russo</td>\n",
       "      <td>12</td>\n",
       "      <td>7.8</td>\n",
       "    </tr>\n",
       "    <tr>\n",
       "      <th>5</th>\n",
       "      <td>Big Hero 6</td>\n",
       "      <td>Chris Williams</td>\n",
       "      <td>12</td>\n",
       "      <td>7.8</td>\n",
       "    </tr>\n",
       "    <tr>\n",
       "      <th>6</th>\n",
       "      <td>Guardians of the Galaxy Vol. 2</td>\n",
       "      <td>James Gunn</td>\n",
       "      <td>13</td>\n",
       "      <td>7.7</td>\n",
       "    </tr>\n",
       "  </tbody>\n",
       "</table>\n",
       "</div>"
      ],
      "text/plain": [
       "                      Movie Title   Director Name  Number of Movies  \\\n",
       "0          Avengers: Infinity War   Anthony Russo                24   \n",
       "1        How to Train Your Dragon    Dean DeBlois                12   \n",
       "2         Guardians of the Galaxy      James Gunn                11   \n",
       "3                        Zootopia    Byron Howard                24   \n",
       "4      Captain America: Civil War   Anthony Russo                12   \n",
       "5                      Big Hero 6  Chris Williams                12   \n",
       "6  Guardians of the Galaxy Vol. 2      James Gunn                13   \n",
       "\n",
       "   Average Movie Ratings  \n",
       "0                    8.5  \n",
       "1                    8.1  \n",
       "2                    8.1  \n",
       "3                    8.0  \n",
       "4                    7.8  \n",
       "5                    7.8  \n",
       "6                    7.7  "
      ]
     },
     "execution_count": 175,
     "metadata": {},
     "output_type": "execute_result"
    }
   ],
   "source": [
    "Recommended_dir"
   ]
  },
  {
   "cell_type": "code",
   "execution_count": null,
   "id": "c4e34d56-304b-49d1-9b34-996ec09b440b",
   "metadata": {},
   "outputs": [],
   "source": []
  }
 ],
 "metadata": {
  "kernelspec": {
   "display_name": "Python 3 (ipykernel)",
   "language": "python",
   "name": "python3"
  },
  "language_info": {
   "codemirror_mode": {
    "name": "ipython",
    "version": 3
   },
   "file_extension": ".py",
   "mimetype": "text/x-python",
   "name": "python",
   "nbconvert_exporter": "python",
   "pygments_lexer": "ipython3",
   "version": "3.9.13"
  },
  "toc-autonumbering": true,
  "toc-showmarkdowntxt": false,
  "toc-showtags": false
 },
 "nbformat": 4,
 "nbformat_minor": 5
}
